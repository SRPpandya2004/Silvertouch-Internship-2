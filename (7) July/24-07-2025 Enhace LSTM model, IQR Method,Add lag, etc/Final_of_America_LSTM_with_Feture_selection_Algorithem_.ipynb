{
  "nbformat": 4,
  "nbformat_minor": 0,
  "metadata": {
    "colab": {
      "provenance": []
    },
    "kernelspec": {
      "name": "python3",
      "display_name": "Python 3"
    },
    "language_info": {
      "name": "python"
    }
  },
  "cells": [
    {
      "cell_type": "markdown",
      "source": [
        "# **First Code**"
      ],
      "metadata": {
        "id": "X2WdYLpIM4U6"
      }
    },
    {
      "cell_type": "code",
      "source": [
        "pip install optuna"
      ],
      "metadata": {
        "colab": {
          "base_uri": "https://localhost:8080/"
        },
        "id": "D1Bw87zbM355",
        "outputId": "ccba4a6c-9709-4ccb-c36b-1cb680997188"
      },
      "execution_count": null,
      "outputs": [
        {
          "output_type": "stream",
          "name": "stdout",
          "text": [
            "Collecting optuna\n",
            "  Downloading optuna-4.4.0-py3-none-any.whl.metadata (17 kB)\n",
            "Collecting alembic>=1.5.0 (from optuna)\n",
            "  Downloading alembic-1.16.4-py3-none-any.whl.metadata (7.3 kB)\n",
            "Collecting colorlog (from optuna)\n",
            "  Downloading colorlog-6.9.0-py3-none-any.whl.metadata (10 kB)\n",
            "Requirement already satisfied: numpy in /usr/local/lib/python3.11/dist-packages (from optuna) (2.0.2)\n",
            "Requirement already satisfied: packaging>=20.0 in /usr/local/lib/python3.11/dist-packages (from optuna) (25.0)\n",
            "Requirement already satisfied: sqlalchemy>=1.4.2 in /usr/local/lib/python3.11/dist-packages (from optuna) (2.0.41)\n",
            "Requirement already satisfied: tqdm in /usr/local/lib/python3.11/dist-packages (from optuna) (4.67.1)\n",
            "Requirement already satisfied: PyYAML in /usr/local/lib/python3.11/dist-packages (from optuna) (6.0.2)\n",
            "Requirement already satisfied: Mako in /usr/lib/python3/dist-packages (from alembic>=1.5.0->optuna) (1.1.3)\n",
            "Requirement already satisfied: typing-extensions>=4.12 in /usr/local/lib/python3.11/dist-packages (from alembic>=1.5.0->optuna) (4.14.1)\n",
            "Requirement already satisfied: greenlet>=1 in /usr/local/lib/python3.11/dist-packages (from sqlalchemy>=1.4.2->optuna) (3.2.3)\n",
            "Downloading optuna-4.4.0-py3-none-any.whl (395 kB)\n",
            "\u001b[2K   \u001b[90m━━━━━━━━━━━━━━━━━━━━━━━━━━━━━━━━━━━━━━━━\u001b[0m \u001b[32m395.9/395.9 kB\u001b[0m \u001b[31m7.1 MB/s\u001b[0m eta \u001b[36m0:00:00\u001b[0m\n",
            "\u001b[?25hDownloading alembic-1.16.4-py3-none-any.whl (247 kB)\n",
            "\u001b[2K   \u001b[90m━━━━━━━━━━━━━━━━━━━━━━━━━━━━━━━━━━━━━━━━\u001b[0m \u001b[32m247.0/247.0 kB\u001b[0m \u001b[31m18.4 MB/s\u001b[0m eta \u001b[36m0:00:00\u001b[0m\n",
            "\u001b[?25hDownloading colorlog-6.9.0-py3-none-any.whl (11 kB)\n",
            "Installing collected packages: colorlog, alembic, optuna\n",
            "Successfully installed alembic-1.16.4 colorlog-6.9.0 optuna-4.4.0\n"
          ]
        }
      ]
    },
    {
      "cell_type": "markdown",
      "source": [
        "Cell 1 – Imports & Setup"
      ],
      "metadata": {
        "id": "wtDHkvDNtCcc"
      }
    },
    {
      "cell_type": "code",
      "source": [
        "import pandas as pd\n",
        "import numpy as np\n",
        "import matplotlib.pyplot as plt\n",
        "import seaborn as sns\n",
        "\n",
        "from sklearn.preprocessing import MinMaxScaler\n",
        "from sklearn.metrics import mean_squared_error, mean_absolute_error\n",
        "from sklearn.model_selection import train_test_split\n",
        "from sklearn.feature_selection import VarianceThreshold\n",
        "import optuna\n",
        "\n",
        "from keras.models import Sequential\n",
        "from keras.layers import LSTM, Dense, Dropout\n",
        "from keras.callbacks import EarlyStopping\n",
        "import warnings\n",
        "warnings.filterwarnings(\"ignore\")\n"
      ],
      "metadata": {
        "id": "3A7Bwu3RM6j5"
      },
      "execution_count": null,
      "outputs": []
    },
    {
      "cell_type": "markdown",
      "source": [
        "Cell 2 – Load Data & Initial Cleaning"
      ],
      "metadata": {
        "id": "AvXiQ0X1tGMt"
      }
    },
    {
      "cell_type": "code",
      "source": [
        "df = pd.read_csv('/content/sample_data/dengue data 17-07-2025.csv')\n",
        "df.drop(columns=['city', 'week_start_date'], inplace=True)\n",
        "df.fillna(method='ffill', inplace=True)\n",
        "df.index"
      ],
      "metadata": {
        "colab": {
          "base_uri": "https://localhost:8080/"
        },
        "id": "n9C4Zj83M6nh",
        "outputId": "bc395999-d682-4416-91f0-4b22156bb0b0"
      },
      "execution_count": null,
      "outputs": [
        {
          "output_type": "execute_result",
          "data": {
            "text/plain": [
              "RangeIndex(start=0, stop=1456, step=1)"
            ]
          },
          "metadata": {},
          "execution_count": 13
        }
      ]
    },
    {
      "cell_type": "markdown",
      "source": [
        "Cell 3 – Feature Engineering + Outlier Removal"
      ],
      "metadata": {
        "id": "EospA1rbtH78"
      }
    },
    {
      "cell_type": "code",
      "source": [
        "# Outlier removal using IQR\n",
        "def remove_outliers(df):\n",
        "    Q1 = df.quantile(0.25)\n",
        "    Q3 = df.quantile(0.75)\n",
        "    IQR = Q3 - Q1\n",
        "    return df[~((df < (Q1 - 1.5*IQR)) | (df > (Q3 + 1.5*IQR))).any(axis=1)]\n",
        "\n",
        "df = remove_outliers(df)\n",
        "\n",
        "# Add lag features\n",
        "for lag in [1, 2, 3]:\n",
        "    df[f'total_cases_lag{lag}'] = df['total_cases'].shift(lag)\n",
        "df.dropna(inplace=True)\n",
        "\n",
        "# # Outlier removal using IQR\n",
        "# def remove_outliers(df):\n",
        "#     Q1 = df.quantile(0.25)\n",
        "#     Q3 = df.quantile(0.75)\n",
        "#     IQR = Q3 - Q1\n",
        "#     return df[~((df < (Q1 - 1.5*IQR)) | (df > (Q3 + 1.5*IQR))).any(axis=1)]\n",
        "\n",
        "# df = remove_outliers(df)\n",
        "\n",
        "# # Add lag features\n",
        "# for lag in [1, 2, 3]:\n",
        "#     df[f'total_cases_lag{lag}'] = df['total_cases'].shift(lag)\n",
        "# df['month'] = pd.to_datetime(df['week_start_date'], format='%Y-%m-%d').dt.month\n",
        "# df.dropna(inplace=True)\n"
      ],
      "metadata": {
        "colab": {
          "base_uri": "https://localhost:8080/"
        },
        "id": "IZwq7blnM6qr",
        "outputId": "5b2ad001-0f67-498a-ed50-7eefaf9403f6"
      },
      "execution_count": null,
      "outputs": [
        {
          "output_type": "execute_result",
          "data": {
            "text/plain": [
              "Index([ 18,  21,  22,  35,  36,  39,  41,  42,  43,  44,\n",
              "       ...\n",
              "       913, 914, 918, 923, 925, 926, 928, 931, 932, 934],\n",
              "      dtype='int64', length=454)"
            ]
          },
          "metadata": {},
          "execution_count": 17
        }
      ]
    },
    {
      "cell_type": "markdown",
      "source": [
        "Cell 4 – Feature Filtering and Scaling"
      ],
      "metadata": {
        "id": "iOzpWtE9tNak"
      }
    },
    {
      "cell_type": "code",
      "source": [
        "# Target column\n",
        "target_col = 'total_cases'\n",
        "features = df.drop(columns=[target_col])\n",
        "\n",
        "# Remove low variance & high correlation\n",
        "def drop_low_variance(df, thresh=0.01):\n",
        "    sel = VarianceThreshold(thresh)\n",
        "    return df[df.columns[sel.fit(df).get_support()]]\n",
        "def drop_high_corr(df, thresh=0.9):\n",
        "    corr = df.corr().abs()\n",
        "    up = corr.where(np.triu(np.ones(corr.shape),1).astype(bool))\n",
        "    drop = [c for c in up.columns if any(up[c] > thresh)]\n",
        "    return df.drop(columns=drop)\n",
        "\n",
        "features = drop_low_variance(features)\n",
        "features = drop_high_corr(features)\n",
        "\n",
        "# Scale features & target\n",
        "feat_scaler = MinMaxScaler()\n",
        "target_scaler = MinMaxScaler()\n",
        "X_feat = feat_scaler.fit_transform(features)\n",
        "y = df[target_col].values.reshape(-1,1)\n",
        "y_scaled = target_scaler.fit_transform(y)\n",
        "\n",
        "# # Target column\n",
        "# target_col = 'total_cases'\n",
        "# features = df.drop(columns=[target_col, 'week_start_date'])\n",
        "\n",
        "# # Remove low variance & high correlation\n",
        "# def drop_low_variance(df, thresh=0.01):\n",
        "#     sel = VarianceThreshold(thresh)\n",
        "#     return df[df.columns[sel.fit(df).get_support()]]\n",
        "# def drop_high_corr(df, thresh=0.9):\n",
        "#     corr = df.corr().abs()\n",
        "#     up = corr.where(np.triu(np.ones(corr.shape),1).astype(bool))\n",
        "#     drop = [c for c in up.columns if any(up[c] > thresh)]\n",
        "#     return df.drop(columns=drop)\n",
        "\n",
        "# features = drop_low_variance(features)\n",
        "# features = drop_high_corr(features)\n",
        "\n",
        "# # Scale features & target\n",
        "# feat_scaler = MinMaxScaler()\n",
        "# target_scaler = MinMaxScaler()\n",
        "# X_feat = feat_scaler.fit_transform(features)\n",
        "# y = df[target_col].values.reshape(-1,1)\n",
        "# y_scaled = target_scaler.fit_transform(y)\n"
      ],
      "metadata": {
        "id": "b6KRpO8sM6tu"
      },
      "execution_count": null,
      "outputs": []
    },
    {
      "cell_type": "markdown",
      "source": [
        "Cell 5 – Sequence Creation & Split"
      ],
      "metadata": {
        "id": "HCwwUdzstRH8"
      }
    },
    {
      "cell_type": "code",
      "source": [
        "window = 10\n",
        "X, y_seq = [], []\n",
        "for i in range(len(y_scaled)-window):\n",
        "    X.append(X_feat[i:i+window])\n",
        "    y_seq.append(y_scaled[i+window])\n",
        "X, y_seq = np.array(X), np.array(y_seq)\n",
        "\n",
        "# Split: Train 70%, Val 10%, Test 20%\n",
        "idx = len(X)\n",
        "test_size = int(0.2*idx)\n",
        "val_size = int(0.1*idx)\n",
        "\n",
        "X_train, X_val, X_test = X[:-test_size-val_size], X[-test_size-val_size:-test_size], X[-test_size:]\n",
        "y_train, y_val, y_test = y_seq[:-test_size-val_size], y_seq[-test_size-val_size:-test_size], y_seq[-test_size:]\n"
      ],
      "metadata": {
        "id": "4oHYUo1XM6-R"
      },
      "execution_count": null,
      "outputs": []
    },
    {
      "cell_type": "markdown",
      "source": [
        "Cell 6 – Optuna Tuning"
      ],
      "metadata": {
        "id": "49OqCWD7tS0-"
      }
    },
    {
      "cell_type": "code",
      "source": [
        "def create_model(input_shape, trial):\n",
        "    model = Sequential()\n",
        "    n = trial.suggest_int('neurons', 64, 256, step=32)\n",
        "    model.add(LSTM(n, input_shape=input_shape, return_sequences=True))\n",
        "    model.add(Dropout(trial.suggest_uniform('drop',0.0,0.5)))\n",
        "    model.add(LSTM(n//2))\n",
        "    model.add(Dropout(trial.suggest_uniform('drop2',0.0,0.5)))\n",
        "    model.add(Dense(1))\n",
        "    opt = trial.suggest_categorical('opt', ['adam','nadam','rmsprop'])\n",
        "    model.compile(optimizer=opt, loss='mse')\n",
        "    return model\n",
        "\n",
        "def objective(trial):\n",
        "    model = create_model((window, X.shape[2]), trial)\n",
        "    es = EarlyStopping(monitor='val_loss', patience=10, restore_best_weights=True)\n",
        "    model.fit(X_train, y_train, epochs=100, batch_size=trial.suggest_categorical('bs',[16,32,64]),\n",
        "              validation_data=(X_val,y_val), callbacks=[es], verbose=0)\n",
        "    pred = model.predict(X_val)\n",
        "    return mean_squared_error(y_val, pred)\n",
        "\n",
        "study = optuna.create_study(direction='minimize')\n",
        "study.optimize(objective, n_trials=50)\n",
        "\n",
        "print(\"Best hyperparameters:\", study.best_trial.params)\n"
      ],
      "metadata": {
        "colab": {
          "base_uri": "https://localhost:8080/"
        },
        "id": "rBdSNdVZM7F9",
        "outputId": "ef468657-6960-46da-f619-3884914e9086"
      },
      "execution_count": null,
      "outputs": [
        {
          "output_type": "stream",
          "name": "stderr",
          "text": [
            "[I 2025-07-24 06:55:00,853] A new study created in memory with name: no-name-2a7413a9-e9ff-4622-8915-107d93487ed9\n"
          ]
        },
        {
          "output_type": "stream",
          "name": "stdout",
          "text": [
            "\u001b[1m2/2\u001b[0m \u001b[32m━━━━━━━━━━━━━━━━━━━━\u001b[0m\u001b[37m\u001b[0m \u001b[1m1s\u001b[0m 305ms/step\n"
          ]
        },
        {
          "output_type": "stream",
          "name": "stderr",
          "text": [
            "[I 2025-07-24 06:55:30,984] Trial 0 finished with value: 0.01911916958204309 and parameters: {'neurons': 256, 'drop': 0.48070225013878887, 'drop2': 0.35948017764996254, 'opt': 'nadam', 'bs': 32}. Best is trial 0 with value: 0.01911916958204309.\n"
          ]
        },
        {
          "output_type": "stream",
          "name": "stdout",
          "text": [
            "\u001b[1m2/2\u001b[0m \u001b[32m━━━━━━━━━━━━━━━━━━━━\u001b[0m\u001b[37m\u001b[0m \u001b[1m1s\u001b[0m 298ms/step\n"
          ]
        },
        {
          "output_type": "stream",
          "name": "stderr",
          "text": [
            "[I 2025-07-24 06:55:48,282] Trial 1 finished with value: 0.018162147138921846 and parameters: {'neurons': 64, 'drop': 0.307850941612097, 'drop2': 0.2532597639922215, 'opt': 'nadam', 'bs': 32}. Best is trial 1 with value: 0.018162147138921846.\n"
          ]
        },
        {
          "output_type": "stream",
          "name": "stdout",
          "text": [
            "\u001b[1m2/2\u001b[0m \u001b[32m━━━━━━━━━━━━━━━━━━━━\u001b[0m\u001b[37m\u001b[0m \u001b[1m1s\u001b[0m 422ms/step\n"
          ]
        },
        {
          "output_type": "stream",
          "name": "stderr",
          "text": [
            "[I 2025-07-24 06:56:05,246] Trial 2 finished with value: 0.019404690084597286 and parameters: {'neurons': 128, 'drop': 0.2422641424950751, 'drop2': 0.3340642737283435, 'opt': 'nadam', 'bs': 32}. Best is trial 1 with value: 0.018162147138921846.\n"
          ]
        },
        {
          "output_type": "stream",
          "name": "stdout",
          "text": [
            "\u001b[1m2/2\u001b[0m \u001b[32m━━━━━━━━━━━━━━━━━━━━\u001b[0m\u001b[37m\u001b[0m \u001b[1m1s\u001b[0m 308ms/step\n"
          ]
        },
        {
          "output_type": "stream",
          "name": "stderr",
          "text": [
            "[I 2025-07-24 06:56:20,353] Trial 3 finished with value: 0.01941929082508408 and parameters: {'neurons': 64, 'drop': 0.31726372143639886, 'drop2': 0.38802469214382734, 'opt': 'rmsprop', 'bs': 32}. Best is trial 1 with value: 0.018162147138921846.\n"
          ]
        },
        {
          "output_type": "stream",
          "name": "stdout",
          "text": [
            "\u001b[1m2/2\u001b[0m \u001b[32m━━━━━━━━━━━━━━━━━━━━\u001b[0m\u001b[37m\u001b[0m \u001b[1m1s\u001b[0m 292ms/step\n"
          ]
        },
        {
          "output_type": "stream",
          "name": "stderr",
          "text": [
            "[I 2025-07-24 06:56:39,276] Trial 4 finished with value: 0.01907842849285359 and parameters: {'neurons': 64, 'drop': 0.27365412597470923, 'drop2': 0.2713243413879883, 'opt': 'adam', 'bs': 32}. Best is trial 1 with value: 0.018162147138921846.\n"
          ]
        },
        {
          "output_type": "stream",
          "name": "stdout",
          "text": [
            "\u001b[1m2/2\u001b[0m \u001b[32m━━━━━━━━━━━━━━━━━━━━\u001b[0m\u001b[37m\u001b[0m \u001b[1m1s\u001b[0m 310ms/step\n"
          ]
        },
        {
          "output_type": "stream",
          "name": "stderr",
          "text": [
            "[I 2025-07-24 06:57:00,136] Trial 5 finished with value: 0.016895826241138973 and parameters: {'neurons': 160, 'drop': 0.20750878162155967, 'drop2': 0.1680774732397644, 'opt': 'nadam', 'bs': 16}. Best is trial 5 with value: 0.016895826241138973.\n"
          ]
        },
        {
          "output_type": "stream",
          "name": "stdout",
          "text": [
            "\u001b[1m2/2\u001b[0m \u001b[32m━━━━━━━━━━━━━━━━━━━━\u001b[0m\u001b[37m\u001b[0m \u001b[1m1s\u001b[0m 328ms/step\n"
          ]
        },
        {
          "output_type": "stream",
          "name": "stderr",
          "text": [
            "[I 2025-07-24 06:57:20,701] Trial 6 finished with value: 0.017941112098523674 and parameters: {'neurons': 64, 'drop': 0.44368498416156066, 'drop2': 0.3857091864090311, 'opt': 'rmsprop', 'bs': 16}. Best is trial 5 with value: 0.016895826241138973.\n"
          ]
        },
        {
          "output_type": "stream",
          "name": "stdout",
          "text": [
            "\u001b[1m2/2\u001b[0m \u001b[32m━━━━━━━━━━━━━━━━━━━━\u001b[0m\u001b[37m\u001b[0m \u001b[1m1s\u001b[0m 304ms/step\n"
          ]
        },
        {
          "output_type": "stream",
          "name": "stderr",
          "text": [
            "[I 2025-07-24 06:57:39,400] Trial 7 finished with value: 0.018245442222720426 and parameters: {'neurons': 64, 'drop': 0.2733981898943771, 'drop2': 0.4628240102421118, 'opt': 'rmsprop', 'bs': 16}. Best is trial 5 with value: 0.016895826241138973.\n"
          ]
        },
        {
          "output_type": "stream",
          "name": "stdout",
          "text": [
            "\u001b[1m2/2\u001b[0m \u001b[32m━━━━━━━━━━━━━━━━━━━━\u001b[0m\u001b[37m\u001b[0m \u001b[1m1s\u001b[0m 321ms/step\n"
          ]
        },
        {
          "output_type": "stream",
          "name": "stderr",
          "text": [
            "[I 2025-07-24 06:58:01,841] Trial 8 finished with value: 0.01643938865745209 and parameters: {'neurons': 96, 'drop': 0.4993935541191241, 'drop2': 0.1730030426374244, 'opt': 'rmsprop', 'bs': 32}. Best is trial 8 with value: 0.01643938865745209.\n"
          ]
        },
        {
          "output_type": "stream",
          "name": "stdout",
          "text": [
            "\u001b[1m2/2\u001b[0m \u001b[32m━━━━━━━━━━━━━━━━━━━━\u001b[0m\u001b[37m\u001b[0m \u001b[1m1s\u001b[0m 315ms/step\n"
          ]
        },
        {
          "output_type": "stream",
          "name": "stderr",
          "text": [
            "[I 2025-07-24 06:58:38,620] Trial 9 finished with value: 0.016503285069327994 and parameters: {'neurons': 256, 'drop': 0.27239712199870814, 'drop2': 0.43728636224001527, 'opt': 'adam', 'bs': 64}. Best is trial 8 with value: 0.01643938865745209.\n"
          ]
        },
        {
          "output_type": "stream",
          "name": "stdout",
          "text": [
            "\u001b[1m2/2\u001b[0m \u001b[32m━━━━━━━━━━━━━━━━━━━━\u001b[0m\u001b[37m\u001b[0m \u001b[1m1s\u001b[0m 306ms/step\n"
          ]
        },
        {
          "output_type": "stream",
          "name": "stderr",
          "text": [
            "[I 2025-07-24 06:58:54,022] Trial 10 finished with value: 0.018745626240206387 and parameters: {'neurons': 128, 'drop': 0.007340793766864695, 'drop2': 0.054152223798074384, 'opt': 'rmsprop', 'bs': 64}. Best is trial 8 with value: 0.01643938865745209.\n"
          ]
        },
        {
          "output_type": "stream",
          "name": "stdout",
          "text": [
            "\u001b[1m2/2\u001b[0m \u001b[32m━━━━━━━━━━━━━━━━━━━━\u001b[0m\u001b[37m\u001b[0m \u001b[1m1s\u001b[0m 297ms/step\n"
          ]
        },
        {
          "output_type": "stream",
          "name": "stderr",
          "text": [
            "[I 2025-07-24 06:59:23,985] Trial 11 finished with value: 0.018682585404224062 and parameters: {'neurons': 256, 'drop': 0.11596830272797937, 'drop2': 0.12041793289889913, 'opt': 'adam', 'bs': 64}. Best is trial 8 with value: 0.01643938865745209.\n"
          ]
        },
        {
          "output_type": "stream",
          "name": "stdout",
          "text": [
            "\u001b[1m2/2\u001b[0m \u001b[32m━━━━━━━━━━━━━━━━━━━━\u001b[0m\u001b[37m\u001b[0m \u001b[1m1s\u001b[0m 301ms/step\n"
          ]
        },
        {
          "output_type": "stream",
          "name": "stderr",
          "text": [
            "[I 2025-07-24 06:59:48,519] Trial 12 finished with value: 0.019057539986253192 and parameters: {'neurons': 224, 'drop': 0.4041259250314424, 'drop2': 0.4932461590671137, 'opt': 'adam', 'bs': 64}. Best is trial 8 with value: 0.01643938865745209.\n"
          ]
        },
        {
          "output_type": "stream",
          "name": "stdout",
          "text": [
            "\u001b[1m2/2\u001b[0m \u001b[32m━━━━━━━━━━━━━━━━━━━━\u001b[0m\u001b[37m\u001b[0m \u001b[1m1s\u001b[0m 328ms/step\n"
          ]
        },
        {
          "output_type": "stream",
          "name": "stderr",
          "text": [
            "[I 2025-07-24 07:00:27,751] Trial 13 finished with value: 0.015740593603958904 and parameters: {'neurons': 192, 'drop': 0.360552442512428, 'drop2': 0.18626173985154781, 'opt': 'adam', 'bs': 64}. Best is trial 13 with value: 0.015740593603958904.\n"
          ]
        },
        {
          "output_type": "stream",
          "name": "stdout",
          "text": [
            "\u001b[1m2/2\u001b[0m \u001b[32m━━━━━━━━━━━━━━━━━━━━\u001b[0m\u001b[37m\u001b[0m \u001b[1m1s\u001b[0m 308ms/step\n"
          ]
        },
        {
          "output_type": "stream",
          "name": "stderr",
          "text": [
            "[I 2025-07-24 07:00:49,793] Trial 14 finished with value: 0.01875587490361711 and parameters: {'neurons': 192, 'drop': 0.37239789009284147, 'drop2': 0.17361966430761203, 'opt': 'rmsprop', 'bs': 64}. Best is trial 13 with value: 0.015740593603958904.\n"
          ]
        },
        {
          "output_type": "stream",
          "name": "stdout",
          "text": [
            "\u001b[1m2/2\u001b[0m \u001b[32m━━━━━━━━━━━━━━━━━━━━\u001b[0m\u001b[37m\u001b[0m \u001b[1m1s\u001b[0m 307ms/step\n"
          ]
        },
        {
          "output_type": "stream",
          "name": "stderr",
          "text": [
            "[I 2025-07-24 07:01:05,848] Trial 15 finished with value: 0.017840669588944782 and parameters: {'neurons': 128, 'drop': 0.38636143016486035, 'drop2': 0.023941846655091803, 'opt': 'adam', 'bs': 32}. Best is trial 13 with value: 0.015740593603958904.\n"
          ]
        },
        {
          "output_type": "stream",
          "name": "stdout",
          "text": [
            "\u001b[1m2/2\u001b[0m \u001b[32m━━━━━━━━━━━━━━━━━━━━\u001b[0m\u001b[37m\u001b[0m \u001b[1m1s\u001b[0m 296ms/step\n"
          ]
        },
        {
          "output_type": "stream",
          "name": "stderr",
          "text": [
            "[I 2025-07-24 07:01:35,078] Trial 16 finished with value: 0.016976056890098047 and parameters: {'neurons': 192, 'drop': 0.49814160414963193, 'drop2': 0.1913477610313729, 'opt': 'adam', 'bs': 64}. Best is trial 13 with value: 0.015740593603958904.\n"
          ]
        },
        {
          "output_type": "stream",
          "name": "stdout",
          "text": [
            "\u001b[1m2/2\u001b[0m \u001b[32m━━━━━━━━━━━━━━━━━━━━\u001b[0m\u001b[37m\u001b[0m \u001b[1m1s\u001b[0m 307ms/step\n"
          ]
        },
        {
          "output_type": "stream",
          "name": "stderr",
          "text": [
            "[I 2025-07-24 07:01:59,137] Trial 17 finished with value: 0.01809640882886502 and parameters: {'neurons': 160, 'drop': 0.16553569366472878, 'drop2': 0.10337248894966766, 'opt': 'rmsprop', 'bs': 64}. Best is trial 13 with value: 0.015740593603958904.\n"
          ]
        },
        {
          "output_type": "stream",
          "name": "stdout",
          "text": [
            "\u001b[1m2/2\u001b[0m \u001b[32m━━━━━━━━━━━━━━━━━━━━\u001b[0m\u001b[37m\u001b[0m \u001b[1m1s\u001b[0m 294ms/step\n"
          ]
        },
        {
          "output_type": "stream",
          "name": "stderr",
          "text": [
            "[I 2025-07-24 07:02:12,174] Trial 18 finished with value: 0.019354182022711434 and parameters: {'neurons': 96, 'drop': 0.4313373162993507, 'drop2': 0.30099160642433687, 'opt': 'rmsprop', 'bs': 32}. Best is trial 13 with value: 0.015740593603958904.\n"
          ]
        },
        {
          "output_type": "stream",
          "name": "stdout",
          "text": [
            "\u001b[1m2/2\u001b[0m \u001b[32m━━━━━━━━━━━━━━━━━━━━\u001b[0m\u001b[37m\u001b[0m \u001b[1m2s\u001b[0m 1s/step\n"
          ]
        },
        {
          "output_type": "stream",
          "name": "stderr",
          "text": [
            "[I 2025-07-24 07:02:39,545] Trial 19 finished with value: 0.016917319420325403 and parameters: {'neurons': 192, 'drop': 0.3489204894843659, 'drop2': 0.2200823739758878, 'opt': 'adam', 'bs': 16}. Best is trial 13 with value: 0.015740593603958904.\n"
          ]
        },
        {
          "output_type": "stream",
          "name": "stdout",
          "text": [
            "\u001b[1m2/2\u001b[0m \u001b[32m━━━━━━━━━━━━━━━━━━━━\u001b[0m\u001b[37m\u001b[0m \u001b[1m1s\u001b[0m 299ms/step\n"
          ]
        },
        {
          "output_type": "stream",
          "name": "stderr",
          "text": [
            "[I 2025-07-24 07:02:56,383] Trial 20 finished with value: 0.019230413718022126 and parameters: {'neurons': 96, 'drop': 0.4447152362718101, 'drop2': 0.12878619938598052, 'opt': 'rmsprop', 'bs': 64}. Best is trial 13 with value: 0.015740593603958904.\n"
          ]
        },
        {
          "output_type": "stream",
          "name": "stdout",
          "text": [
            "\u001b[1m2/2\u001b[0m \u001b[32m━━━━━━━━━━━━━━━━━━━━\u001b[0m\u001b[37m\u001b[0m \u001b[1m1s\u001b[0m 303ms/step\n"
          ]
        },
        {
          "output_type": "stream",
          "name": "stderr",
          "text": [
            "[I 2025-07-24 07:03:33,447] Trial 21 finished with value: 0.01742256172172523 and parameters: {'neurons': 224, 'drop': 0.33295247017672325, 'drop2': 0.4380866041694873, 'opt': 'adam', 'bs': 64}. Best is trial 13 with value: 0.015740593603958904.\n"
          ]
        },
        {
          "output_type": "stream",
          "name": "stdout",
          "text": [
            "\u001b[1m2/2\u001b[0m \u001b[32m━━━━━━━━━━━━━━━━━━━━\u001b[0m\u001b[37m\u001b[0m \u001b[1m1s\u001b[0m 301ms/step\n"
          ]
        },
        {
          "output_type": "stream",
          "name": "stderr",
          "text": [
            "[I 2025-07-24 07:03:57,459] Trial 22 finished with value: 0.019299420363753966 and parameters: {'neurons': 224, 'drop': 0.19029418607929438, 'drop2': 0.23056398003771872, 'opt': 'adam', 'bs': 64}. Best is trial 13 with value: 0.015740593603958904.\n"
          ]
        },
        {
          "output_type": "stream",
          "name": "stdout",
          "text": [
            "\u001b[1m2/2\u001b[0m \u001b[32m━━━━━━━━━━━━━━━━━━━━\u001b[0m\u001b[37m\u001b[0m \u001b[1m1s\u001b[0m 299ms/step\n"
          ]
        },
        {
          "output_type": "stream",
          "name": "stderr",
          "text": [
            "[I 2025-07-24 07:04:24,481] Trial 23 finished with value: 0.017905707586756716 and parameters: {'neurons': 256, 'drop': 0.1048723408631867, 'drop2': 0.30154271705536895, 'opt': 'adam', 'bs': 64}. Best is trial 13 with value: 0.015740593603958904.\n"
          ]
        },
        {
          "output_type": "stream",
          "name": "stdout",
          "text": [
            "\u001b[1m2/2\u001b[0m \u001b[32m━━━━━━━━━━━━━━━━━━━━\u001b[0m\u001b[37m\u001b[0m \u001b[1m1s\u001b[0m 304ms/step\n"
          ]
        },
        {
          "output_type": "stream",
          "name": "stderr",
          "text": [
            "[I 2025-07-24 07:04:38,201] Trial 24 finished with value: 0.018268907086816204 and parameters: {'neurons': 96, 'drop': 0.24185996940835253, 'drop2': 0.06528417957750034, 'opt': 'adam', 'bs': 64}. Best is trial 13 with value: 0.015740593603958904.\n"
          ]
        },
        {
          "output_type": "stream",
          "name": "stdout",
          "text": [
            "\u001b[1m2/2\u001b[0m \u001b[32m━━━━━━━━━━━━━━━━━━━━\u001b[0m\u001b[37m\u001b[0m \u001b[1m1s\u001b[0m 395ms/step\n"
          ]
        },
        {
          "output_type": "stream",
          "name": "stderr",
          "text": [
            "[I 2025-07-24 07:05:07,138] Trial 25 finished with value: 0.016136746577786885 and parameters: {'neurons': 224, 'drop': 0.2860016994160364, 'drop2': 0.1974590303827531, 'opt': 'adam', 'bs': 32}. Best is trial 13 with value: 0.015740593603958904.\n"
          ]
        },
        {
          "output_type": "stream",
          "name": "stdout",
          "text": [
            "\u001b[1m2/2\u001b[0m \u001b[32m━━━━━━━━━━━━━━━━━━━━\u001b[0m\u001b[37m\u001b[0m \u001b[1m1s\u001b[0m 300ms/step\n"
          ]
        },
        {
          "output_type": "stream",
          "name": "stderr",
          "text": [
            "[I 2025-07-24 07:05:33,504] Trial 26 finished with value: 0.018031493423199325 and parameters: {'neurons': 160, 'drop': 0.4111391880807482, 'drop2': 0.14888389202095811, 'opt': 'adam', 'bs': 32}. Best is trial 13 with value: 0.015740593603958904.\n"
          ]
        },
        {
          "output_type": "stream",
          "name": "stdout",
          "text": [
            "\u001b[1m2/2\u001b[0m \u001b[32m━━━━━━━━━━━━━━━━━━━━\u001b[0m\u001b[37m\u001b[0m \u001b[1m1s\u001b[0m 307ms/step\n"
          ]
        },
        {
          "output_type": "stream",
          "name": "stderr",
          "text": [
            "[I 2025-07-24 07:06:04,144] Trial 27 finished with value: 0.01677999447180055 and parameters: {'neurons': 192, 'drop': 0.4693885087876862, 'drop2': 0.2085836352813087, 'opt': 'adam', 'bs': 32}. Best is trial 13 with value: 0.015740593603958904.\n"
          ]
        },
        {
          "output_type": "stream",
          "name": "stdout",
          "text": [
            "\u001b[1m2/2\u001b[0m \u001b[32m━━━━━━━━━━━━━━━━━━━━\u001b[0m\u001b[37m\u001b[0m \u001b[1m1s\u001b[0m 300ms/step\n"
          ]
        },
        {
          "output_type": "stream",
          "name": "stderr",
          "text": [
            "[I 2025-07-24 07:06:30,355] Trial 28 finished with value: 0.016380940178757932 and parameters: {'neurons': 224, 'drop': 0.3664128837628838, 'drop2': 0.08694865898252507, 'opt': 'nadam', 'bs': 32}. Best is trial 13 with value: 0.015740593603958904.\n"
          ]
        },
        {
          "output_type": "stream",
          "name": "stdout",
          "text": [
            "\u001b[1m2/2\u001b[0m \u001b[32m━━━━━━━━━━━━━━━━━━━━\u001b[0m\u001b[37m\u001b[0m \u001b[1m1s\u001b[0m 419ms/step\n"
          ]
        },
        {
          "output_type": "stream",
          "name": "stderr",
          "text": [
            "[I 2025-07-24 07:06:57,618] Trial 29 finished with value: 0.01616491192024766 and parameters: {'neurons': 224, 'drop': 0.3621229458453132, 'drop2': 0.07717656160567704, 'opt': 'nadam', 'bs': 32}. Best is trial 13 with value: 0.015740593603958904.\n"
          ]
        },
        {
          "output_type": "stream",
          "name": "stdout",
          "text": [
            "\u001b[1m2/2\u001b[0m \u001b[32m━━━━━━━━━━━━━━━━━━━━\u001b[0m\u001b[37m\u001b[0m \u001b[1m1s\u001b[0m 297ms/step\n"
          ]
        },
        {
          "output_type": "stream",
          "name": "stderr",
          "text": [
            "[I 2025-07-24 07:07:20,241] Trial 30 finished with value: 0.01803108262186035 and parameters: {'neurons': 224, 'drop': 0.30783866032523255, 'drop2': 0.018848505838112914, 'opt': 'nadam', 'bs': 32}. Best is trial 13 with value: 0.015740593603958904.\n"
          ]
        },
        {
          "output_type": "stream",
          "name": "stdout",
          "text": [
            "\u001b[1m2/2\u001b[0m \u001b[32m━━━━━━━━━━━━━━━━━━━━\u001b[0m\u001b[37m\u001b[0m \u001b[1m1s\u001b[0m 302ms/step\n"
          ]
        },
        {
          "output_type": "stream",
          "name": "stderr",
          "text": [
            "[I 2025-07-24 07:07:45,363] Trial 31 finished with value: 0.01766766885954557 and parameters: {'neurons': 224, 'drop': 0.3651574000984408, 'drop2': 0.08457022859829773, 'opt': 'nadam', 'bs': 32}. Best is trial 13 with value: 0.015740593603958904.\n"
          ]
        },
        {
          "output_type": "stream",
          "name": "stdout",
          "text": [
            "\u001b[1m2/2\u001b[0m \u001b[32m━━━━━━━━━━━━━━━━━━━━\u001b[0m\u001b[37m\u001b[0m \u001b[1m1s\u001b[0m 423ms/step\n"
          ]
        },
        {
          "output_type": "stream",
          "name": "stderr",
          "text": [
            "[I 2025-07-24 07:08:11,053] Trial 32 finished with value: 0.017637472223152744 and parameters: {'neurons': 192, 'drop': 0.30243856524449547, 'drop2': 0.046967565934888766, 'opt': 'nadam', 'bs': 32}. Best is trial 13 with value: 0.015740593603958904.\n"
          ]
        },
        {
          "output_type": "stream",
          "name": "stdout",
          "text": [
            "\u001b[1m2/2\u001b[0m \u001b[32m━━━━━━━━━━━━━━━━━━━━\u001b[0m\u001b[37m\u001b[0m \u001b[1m1s\u001b[0m 303ms/step\n"
          ]
        },
        {
          "output_type": "stream",
          "name": "stderr",
          "text": [
            "[I 2025-07-24 07:08:31,750] Trial 33 finished with value: 0.01806980039199593 and parameters: {'neurons': 224, 'drop': 0.3409115663159096, 'drop2': 0.0892338895433979, 'opt': 'nadam', 'bs': 32}. Best is trial 13 with value: 0.015740593603958904.\n"
          ]
        },
        {
          "output_type": "stream",
          "name": "stdout",
          "text": [
            "\u001b[1m2/2\u001b[0m \u001b[32m━━━━━━━━━━━━━━━━━━━━\u001b[0m\u001b[37m\u001b[0m \u001b[1m2s\u001b[0m 2s/step\n"
          ]
        },
        {
          "output_type": "stream",
          "name": "stderr",
          "text": [
            "[I 2025-07-24 07:08:54,441] Trial 34 finished with value: 0.017577604941762928 and parameters: {'neurons': 224, 'drop': 0.38912992621384357, 'drop2': 0.13795903036385787, 'opt': 'nadam', 'bs': 32}. Best is trial 13 with value: 0.015740593603958904.\n"
          ]
        },
        {
          "output_type": "stream",
          "name": "stdout",
          "text": [
            "\u001b[1m2/2\u001b[0m \u001b[32m━━━━━━━━━━━━━━━━━━━━\u001b[0m\u001b[37m\u001b[0m \u001b[1m1s\u001b[0m 346ms/step\n"
          ]
        },
        {
          "output_type": "stream",
          "name": "stderr",
          "text": [
            "[I 2025-07-24 07:09:33,305] Trial 35 finished with value: 0.01716327942509518 and parameters: {'neurons': 256, 'drop': 0.29478401424426676, 'drop2': 0.24901631141145847, 'opt': 'nadam', 'bs': 32}. Best is trial 13 with value: 0.015740593603958904.\n"
          ]
        },
        {
          "output_type": "stream",
          "name": "stdout",
          "text": [
            "\u001b[1m2/2\u001b[0m \u001b[32m━━━━━━━━━━━━━━━━━━━━\u001b[0m\u001b[37m\u001b[0m \u001b[1m1s\u001b[0m 309ms/step\n"
          ]
        },
        {
          "output_type": "stream",
          "name": "stderr",
          "text": [
            "[I 2025-07-24 07:09:55,524] Trial 36 finished with value: 0.017793261667888898 and parameters: {'neurons': 192, 'drop': 0.24301744909200695, 'drop2': 0.1049362913745233, 'opt': 'nadam', 'bs': 32}. Best is trial 13 with value: 0.015740593603958904.\n"
          ]
        },
        {
          "output_type": "stream",
          "name": "stdout",
          "text": [
            "\u001b[1m2/2\u001b[0m \u001b[32m━━━━━━━━━━━━━━━━━━━━\u001b[0m\u001b[37m\u001b[0m \u001b[1m1s\u001b[0m 301ms/step\n"
          ]
        },
        {
          "output_type": "stream",
          "name": "stderr",
          "text": [
            "[I 2025-07-24 07:10:30,177] Trial 37 finished with value: 0.01811924495452845 and parameters: {'neurons': 256, 'drop': 0.3428268572469933, 'drop2': 0.19268024563848066, 'opt': 'nadam', 'bs': 32}. Best is trial 13 with value: 0.015740593603958904.\n"
          ]
        },
        {
          "output_type": "stream",
          "name": "stdout",
          "text": [
            "\u001b[1m2/2\u001b[0m \u001b[32m━━━━━━━━━━━━━━━━━━━━\u001b[0m\u001b[37m\u001b[0m \u001b[1m1s\u001b[0m 314ms/step\n"
          ]
        },
        {
          "output_type": "stream",
          "name": "stderr",
          "text": [
            "[I 2025-07-24 07:11:12,886] Trial 38 finished with value: 0.016920659702677344 and parameters: {'neurons': 224, 'drop': 0.4175483524536629, 'drop2': 0.2875266463759064, 'opt': 'nadam', 'bs': 16}. Best is trial 13 with value: 0.015740593603958904.\n"
          ]
        },
        {
          "output_type": "stream",
          "name": "stdout",
          "text": [
            "\u001b[1m2/2\u001b[0m \u001b[32m━━━━━━━━━━━━━━━━━━━━\u001b[0m\u001b[37m\u001b[0m \u001b[1m1s\u001b[0m 310ms/step\n"
          ]
        },
        {
          "output_type": "stream",
          "name": "stderr",
          "text": [
            "[I 2025-07-24 07:11:39,498] Trial 39 finished with value: 0.01728976577704377 and parameters: {'neurons': 192, 'drop': 0.4610285153033143, 'drop2': 0.15435382768202455, 'opt': 'nadam', 'bs': 32}. Best is trial 13 with value: 0.015740593603958904.\n"
          ]
        },
        {
          "output_type": "stream",
          "name": "stdout",
          "text": [
            "\u001b[1m2/2\u001b[0m \u001b[32m━━━━━━━━━━━━━━━━━━━━\u001b[0m\u001b[37m\u001b[0m \u001b[1m1s\u001b[0m 314ms/step\n"
          ]
        },
        {
          "output_type": "stream",
          "name": "stderr",
          "text": [
            "[I 2025-07-24 07:12:08,609] Trial 40 finished with value: 0.01720560516591116 and parameters: {'neurons': 160, 'drop': 0.3197713709466118, 'drop2': 0.004412956404978963, 'opt': 'nadam', 'bs': 32}. Best is trial 13 with value: 0.015740593603958904.\n"
          ]
        },
        {
          "output_type": "stream",
          "name": "stdout",
          "text": [
            "\u001b[1m2/2\u001b[0m \u001b[32m━━━━━━━━━━━━━━━━━━━━\u001b[0m\u001b[37m\u001b[0m \u001b[1m1s\u001b[0m 296ms/step\n"
          ]
        },
        {
          "output_type": "stream",
          "name": "stderr",
          "text": [
            "[I 2025-07-24 07:12:46,605] Trial 41 finished with value: 0.016134022886956038 and parameters: {'neurons': 224, 'drop': 0.21745520075741182, 'drop2': 0.17115948232939165, 'opt': 'rmsprop', 'bs': 32}. Best is trial 13 with value: 0.015740593603958904.\n"
          ]
        },
        {
          "output_type": "stream",
          "name": "stdout",
          "text": [
            "\u001b[1m2/2\u001b[0m \u001b[32m━━━━━━━━━━━━━━━━━━━━\u001b[0m\u001b[37m\u001b[0m \u001b[1m1s\u001b[0m 306ms/step\n"
          ]
        },
        {
          "output_type": "stream",
          "name": "stderr",
          "text": [
            "[I 2025-07-24 07:13:13,985] Trial 42 finished with value: 0.01676252815612565 and parameters: {'neurons': 224, 'drop': 0.26844949924812544, 'drop2': 0.248031927504359, 'opt': 'rmsprop', 'bs': 32}. Best is trial 13 with value: 0.015740593603958904.\n"
          ]
        },
        {
          "output_type": "stream",
          "name": "stdout",
          "text": [
            "\u001b[1m2/2\u001b[0m \u001b[32m━━━━━━━━━━━━━━━━━━━━\u001b[0m\u001b[37m\u001b[0m \u001b[1m1s\u001b[0m 472ms/step\n"
          ]
        },
        {
          "output_type": "stream",
          "name": "stderr",
          "text": [
            "[I 2025-07-24 07:13:45,985] Trial 43 finished with value: 0.016686882568080073 and parameters: {'neurons': 256, 'drop': 0.21095138209253814, 'drop2': 0.06965120454932909, 'opt': 'nadam', 'bs': 32}. Best is trial 13 with value: 0.015740593603958904.\n"
          ]
        },
        {
          "output_type": "stream",
          "name": "stdout",
          "text": [
            "\u001b[1m2/2\u001b[0m \u001b[32m━━━━━━━━━━━━━━━━━━━━\u001b[0m\u001b[37m\u001b[0m \u001b[1m1s\u001b[0m 331ms/step\n"
          ]
        },
        {
          "output_type": "stream",
          "name": "stderr",
          "text": [
            "[I 2025-07-24 07:14:23,681] Trial 44 finished with value: 0.017238777923229507 and parameters: {'neurons': 224, 'drop': 0.36122025322626966, 'drop2': 0.1858490075707189, 'opt': 'rmsprop', 'bs': 16}. Best is trial 13 with value: 0.015740593603958904.\n"
          ]
        },
        {
          "output_type": "stream",
          "name": "stdout",
          "text": [
            "\u001b[1m2/2\u001b[0m \u001b[32m━━━━━━━━━━━━━━━━━━━━\u001b[0m\u001b[37m\u001b[0m \u001b[1m1s\u001b[0m 328ms/step\n"
          ]
        },
        {
          "output_type": "stream",
          "name": "stderr",
          "text": [
            "[I 2025-07-24 07:14:42,651] Trial 45 finished with value: 0.019834005353901642 and parameters: {'neurons': 192, 'drop': 0.28721624529960743, 'drop2': 0.12071656244895426, 'opt': 'adam', 'bs': 32}. Best is trial 13 with value: 0.015740593603958904.\n"
          ]
        },
        {
          "output_type": "stream",
          "name": "stdout",
          "text": [
            "\u001b[1m2/2\u001b[0m \u001b[32m━━━━━━━━━━━━━━━━━━━━\u001b[0m\u001b[37m\u001b[0m \u001b[1m1s\u001b[0m 309ms/step\n"
          ]
        },
        {
          "output_type": "stream",
          "name": "stderr",
          "text": [
            "[I 2025-07-24 07:15:29,682] Trial 46 finished with value: 0.016491750736923137 and parameters: {'neurons': 256, 'drop': 0.20822657790896115, 'drop2': 0.15127807469111665, 'opt': 'rmsprop', 'bs': 32}. Best is trial 13 with value: 0.015740593603958904.\n"
          ]
        },
        {
          "output_type": "stream",
          "name": "stdout",
          "text": [
            "\u001b[1m2/2\u001b[0m \u001b[32m━━━━━━━━━━━━━━━━━━━━\u001b[0m\u001b[37m\u001b[0m \u001b[1m1s\u001b[0m 316ms/step\n"
          ]
        },
        {
          "output_type": "stream",
          "name": "stderr",
          "text": [
            "[I 2025-07-24 07:15:57,441] Trial 47 finished with value: 0.016260962144413135 and parameters: {'neurons': 224, 'drop': 0.14823105934047162, 'drop2': 0.3274274020481984, 'opt': 'adam', 'bs': 32}. Best is trial 13 with value: 0.015740593603958904.\n"
          ]
        },
        {
          "output_type": "stream",
          "name": "stdout",
          "text": [
            "\u001b[1m2/2\u001b[0m \u001b[32m━━━━━━━━━━━━━━━━━━━━\u001b[0m\u001b[37m\u001b[0m \u001b[1m1s\u001b[0m 304ms/step\n"
          ]
        },
        {
          "output_type": "stream",
          "name": "stderr",
          "text": [
            "[I 2025-07-24 07:16:29,565] Trial 48 finished with value: 0.01592867897134371 and parameters: {'neurons': 192, 'drop': 0.13372660576492185, 'drop2': 0.34699332677004013, 'opt': 'adam', 'bs': 16}. Best is trial 13 with value: 0.015740593603958904.\n"
          ]
        },
        {
          "output_type": "stream",
          "name": "stdout",
          "text": [
            "\u001b[1m2/2\u001b[0m \u001b[32m━━━━━━━━━━━━━━━━━━━━\u001b[0m\u001b[37m\u001b[0m \u001b[1m1s\u001b[0m 309ms/step\n"
          ]
        },
        {
          "output_type": "stream",
          "name": "stderr",
          "text": [
            "[I 2025-07-24 07:16:57,798] Trial 49 finished with value: 0.01700898933396283 and parameters: {'neurons': 192, 'drop': 0.047303075955868135, 'drop2': 0.37134913430028793, 'opt': 'adam', 'bs': 16}. Best is trial 13 with value: 0.015740593603958904.\n"
          ]
        },
        {
          "output_type": "stream",
          "name": "stdout",
          "text": [
            "Best hyperparameters: {'neurons': 192, 'drop': 0.360552442512428, 'drop2': 0.18626173985154781, 'opt': 'adam', 'bs': 64}\n"
          ]
        }
      ]
    },
    {
      "cell_type": "markdown",
      "source": [
        "Cell 7 – Final Model Training"
      ],
      "metadata": {
        "id": "J_aKafZYtUce"
      }
    },
    {
      "cell_type": "code",
      "source": [
        "p = study.best_trial.params\n",
        "model = Sequential([\n",
        "    LSTM(p['neurons'], return_sequences=True, input_shape=(window,X.shape[2])),\n",
        "    Dropout(p['drop']),\n",
        "    LSTM(p['neurons']//2),\n",
        "    Dropout(p['drop2']),\n",
        "    Dense(1)\n",
        "])\n",
        "model.compile(optimizer=p['opt'], loss='mse')\n",
        "es = EarlyStopping(monitor='val_loss', patience=25, restore_best_weights=True)\n",
        "model.fit(X_train, y_train, epochs=150, batch_size=p['bs'],\n",
        "          validation_data=(X_val,y_val), callbacks=[es], verbose=4)\n"
      ],
      "metadata": {
        "colab": {
          "base_uri": "https://localhost:8080/",
          "height": 222
        },
        "id": "Ylk7TK_VM7Nx",
        "outputId": "600f38b5-b5c2-413b-fdc8-078dc4121a83"
      },
      "execution_count": null,
      "outputs": [
        {
          "output_type": "error",
          "ename": "NameError",
          "evalue": "name 'study' is not defined",
          "traceback": [
            "\u001b[0;31m---------------------------------------------------------------------------\u001b[0m",
            "\u001b[0;31mNameError\u001b[0m                                 Traceback (most recent call last)",
            "\u001b[0;32m/tmp/ipython-input-2-3265727797.py\u001b[0m in \u001b[0;36m<cell line: 0>\u001b[0;34m()\u001b[0m\n\u001b[0;32m----> 1\u001b[0;31m \u001b[0mp\u001b[0m \u001b[0;34m=\u001b[0m \u001b[0mstudy\u001b[0m\u001b[0;34m.\u001b[0m\u001b[0mbest_trial\u001b[0m\u001b[0;34m.\u001b[0m\u001b[0mparams\u001b[0m\u001b[0;34m\u001b[0m\u001b[0;34m\u001b[0m\u001b[0m\n\u001b[0m\u001b[1;32m      2\u001b[0m model = Sequential([\n\u001b[1;32m      3\u001b[0m     \u001b[0mLSTM\u001b[0m\u001b[0;34m(\u001b[0m\u001b[0mp\u001b[0m\u001b[0;34m[\u001b[0m\u001b[0;34m'neurons'\u001b[0m\u001b[0;34m]\u001b[0m\u001b[0;34m,\u001b[0m \u001b[0mreturn_sequences\u001b[0m\u001b[0;34m=\u001b[0m\u001b[0;32mTrue\u001b[0m\u001b[0;34m,\u001b[0m \u001b[0minput_shape\u001b[0m\u001b[0;34m=\u001b[0m\u001b[0;34m(\u001b[0m\u001b[0mwindow\u001b[0m\u001b[0;34m,\u001b[0m\u001b[0mX\u001b[0m\u001b[0;34m.\u001b[0m\u001b[0mshape\u001b[0m\u001b[0;34m[\u001b[0m\u001b[0;36m2\u001b[0m\u001b[0;34m]\u001b[0m\u001b[0;34m)\u001b[0m\u001b[0;34m)\u001b[0m\u001b[0;34m,\u001b[0m\u001b[0;34m\u001b[0m\u001b[0;34m\u001b[0m\u001b[0m\n\u001b[1;32m      4\u001b[0m     \u001b[0mDropout\u001b[0m\u001b[0;34m(\u001b[0m\u001b[0mp\u001b[0m\u001b[0;34m[\u001b[0m\u001b[0;34m'drop'\u001b[0m\u001b[0;34m]\u001b[0m\u001b[0;34m)\u001b[0m\u001b[0;34m,\u001b[0m\u001b[0;34m\u001b[0m\u001b[0;34m\u001b[0m\u001b[0m\n\u001b[1;32m      5\u001b[0m     \u001b[0mLSTM\u001b[0m\u001b[0;34m(\u001b[0m\u001b[0mp\u001b[0m\u001b[0;34m[\u001b[0m\u001b[0;34m'neurons'\u001b[0m\u001b[0;34m]\u001b[0m\u001b[0;34m//\u001b[0m\u001b[0;36m2\u001b[0m\u001b[0;34m)\u001b[0m\u001b[0;34m,\u001b[0m\u001b[0;34m\u001b[0m\u001b[0;34m\u001b[0m\u001b[0m\n",
            "\u001b[0;31mNameError\u001b[0m: name 'study' is not defined"
          ]
        }
      ]
    },
    {
      "cell_type": "markdown",
      "source": [
        "Cell 8 – Predict & Inverse Scale"
      ],
      "metadata": {
        "id": "7NpGlvHntWgs"
      }
    },
    {
      "cell_type": "code",
      "source": [
        "pred_scaled = model.predict(X_test)\n",
        "pred = target_scaler.inverse_transform(pred_scaled)\n",
        "actual = target_scaler.inverse_transform(y_test)\n",
        "\n",
        "mse = mean_squared_error(actual, pred)\n",
        "rmse = np.sqrt(mse)\n",
        "mae = mean_absolute_error(actual, pred)\n",
        "print(f\"MSE: {mse:.2f}, RMSE: {rmse:.2f}, MAE: {mae:.2f}\")\n"
      ],
      "metadata": {
        "colab": {
          "base_uri": "https://localhost:8080/"
        },
        "id": "GqK9jRuRM7bh",
        "outputId": "0e272b9c-fc43-4384-bf8a-210a114e6e9f"
      },
      "execution_count": null,
      "outputs": [
        {
          "output_type": "stream",
          "name": "stdout",
          "text": [
            "\u001b[1m4/4\u001b[0m \u001b[32m━━━━━━━━━━━━━━━━━━━━\u001b[0m\u001b[37m\u001b[0m \u001b[1m1s\u001b[0m 105ms/step\n",
            "MSE: 73.87, RMSE: 8.59, MAE: 6.80\n"
          ]
        }
      ]
    },
    {
      "cell_type": "markdown",
      "source": [
        "Cell 9 – Plot Predictions vs Actual"
      ],
      "metadata": {
        "id": "B_f-gaUbtYuV"
      }
    },
    {
      "cell_type": "code",
      "source": [
        "plt.figure(figsize=(12,6))\n",
        "plt.plot(actual, label='Actual Cases')\n",
        "plt.plot(pred, label='Predicted Cases')\n",
        "plt.title('Dengue Case Prediction (Test Set)')\n",
        "plt.xlabel('Time Step')\n",
        "plt.ylabel('Total Cases')\n",
        "plt.legend()\n",
        "plt.grid(True)\n",
        "plt.show()\n"
      ],
      "metadata": {
        "colab": {
          "base_uri": "https://localhost:8080/",
          "height": 564
        },
        "id": "PBHGJqgbNJ5I",
        "outputId": "8b3e9f49-0df3-4368-f49a-a9890a081451"
      },
      "execution_count": null,
      "outputs": [
        {
          "output_type": "display_data",
          "data": {
            "text/plain": [
              "<Figure size 1200x600 with 1 Axes>"
            ],
            "image/png": "[encoded data removed]"
          },
          "metadata": {}
        }
      ]
    },
    {
      "cell_type": "code",
      "source": [],
      "metadata": {
        "id": "tzko4n5F-1Bc"
      },
      "execution_count": null,
      "outputs": []
    },
    {
      "cell_type": "markdown",
      "source": [
        "# **Second Code**"
      ],
      "metadata": {
        "id": "K_x1HAq0-1PH"
      }
    },
    {
      "cell_type": "code",
      "source": [
        "pip install optuna"
      ],
      "metadata": {
        "colab": {
          "base_uri": "https://localhost:8080/"
        },
        "id": "5eAy63gX_5Aj",
        "outputId": "40a4ebcb-81d2-40ee-a043-3e1d7b796e75"
      },
      "execution_count": null,
      "outputs": [
        {
          "output_type": "stream",
          "name": "stdout",
          "text": [
            "Collecting optuna\n",
            "  Downloading optuna-4.4.0-py3-none-any.whl.metadata (17 kB)\n",
            "Collecting alembic>=1.5.0 (from optuna)\n",
            "  Downloading alembic-1.16.4-py3-none-any.whl.metadata (7.3 kB)\n",
            "Collecting colorlog (from optuna)\n",
            "  Downloading colorlog-6.9.0-py3-none-any.whl.metadata (10 kB)\n",
            "Requirement already satisfied: numpy in /usr/local/lib/python3.11/dist-packages (from optuna) (2.0.2)\n",
            "Requirement already satisfied: packaging>=20.0 in /usr/local/lib/python3.11/dist-packages (from optuna) (25.0)\n",
            "Requirement already satisfied: sqlalchemy>=1.4.2 in /usr/local/lib/python3.11/dist-packages (from optuna) (2.0.41)\n",
            "Requirement already satisfied: tqdm in /usr/local/lib/python3.11/dist-packages (from optuna) (4.67.1)\n",
            "Requirement already satisfied: PyYAML in /usr/local/lib/python3.11/dist-packages (from optuna) (6.0.2)\n",
            "Requirement already satisfied: Mako in /usr/lib/python3/dist-packages (from alembic>=1.5.0->optuna) (1.1.3)\n",
            "Requirement already satisfied: typing-extensions>=4.12 in /usr/local/lib/python3.11/dist-packages (from alembic>=1.5.0->optuna) (4.14.1)\n",
            "Requirement already satisfied: greenlet>=1 in /usr/local/lib/python3.11/dist-packages (from sqlalchemy>=1.4.2->optuna) (3.2.3)\n",
            "Downloading optuna-4.4.0-py3-none-any.whl (395 kB)\n",
            "\u001b[2K   \u001b[90m━━━━━━━━━━━━━━━━━━━━━━━━━━━━━━━━━━━━━━━━\u001b[0m \u001b[32m395.9/395.9 kB\u001b[0m \u001b[31m10.7 MB/s\u001b[0m eta \u001b[36m0:00:00\u001b[0m\n",
            "\u001b[?25hDownloading alembic-1.16.4-py3-none-any.whl (247 kB)\n",
            "\u001b[2K   \u001b[90m━━━━━━━━━━━━━━━━━━━━━━━━━━━━━━━━━━━━━━━━\u001b[0m \u001b[32m247.0/247.0 kB\u001b[0m \u001b[31m14.5 MB/s\u001b[0m eta \u001b[36m0:00:00\u001b[0m\n",
            "\u001b[?25hDownloading colorlog-6.9.0-py3-none-any.whl (11 kB)\n",
            "Installing collected packages: colorlog, alembic, optuna\n",
            "Successfully installed alembic-1.16.4 colorlog-6.9.0 optuna-4.4.0\n"
          ]
        }
      ]
    },
    {
      "cell_type": "markdown",
      "source": [
        "Cell 1: Imports & Setup"
      ],
      "metadata": {
        "id": "a_n6WEGL_JVL"
      }
    },
    {
      "cell_type": "code",
      "source": [
        "import pandas as pd\n",
        "import numpy as np\n",
        "import matplotlib.pyplot as plt\n",
        "import seaborn as sns\n",
        "\n",
        "from sklearn.preprocessing import MinMaxScaler\n",
        "from sklearn.metrics import mean_squared_error, mean_absolute_error\n",
        "from sklearn.model_selection import train_test_split\n",
        "from sklearn.feature_selection import VarianceThreshold\n",
        "import optuna\n",
        "\n",
        "from keras.models import Sequential\n",
        "from keras.layers import LSTM, Dense, Dropout\n",
        "from keras.callbacks import EarlyStopping\n",
        "\n",
        "import warnings\n",
        "warnings.filterwarnings(\"ignore\")\n"
      ],
      "metadata": {
        "id": "EKwXQGwd-4Wb"
      },
      "execution_count": 6,
      "outputs": []
    },
    {
      "cell_type": "markdown",
      "source": [
        "Cell 2: Load Data & Initial Cleaning"
      ],
      "metadata": {
        "id": "VAwgG-mx_L_7"
      }
    },
    {
      "cell_type": "code",
      "source": [
        "df = pd.read_csv('/content/sample_data/dengue data 17-07-2025.csv')\n",
        "\n",
        "# Keep 'week_start_date' for feature engineering but drop 'city'\n",
        "df.drop(columns=['city'], inplace=True)\n",
        "df.fillna(method='ffill', inplace=True)\n"
      ],
      "metadata": {
        "id": "kzmQf7H3-4ZU"
      },
      "execution_count": 7,
      "outputs": []
    },
    {
      "cell_type": "markdown",
      "source": [
        "Cell 3: Remove Outliers & Feature Engineering"
      ],
      "metadata": {
        "id": "-XXJWYV2_O6D"
      }
    },
    {
      "cell_type": "code",
      "source": [
        "# Remove outliers based on IQR for all numeric columns except date and target\n",
        "def remove_outliers(df, target_col='total_cases'):\n",
        "    numeric_cols = df.select_dtypes(include=np.number).columns.tolist()\n",
        "    numeric_cols.remove(target_col)\n",
        "    Q1 = df[numeric_cols].quantile(0.25)\n",
        "    Q3 = df[numeric_cols].quantile(0.75)\n",
        "    IQR = Q3 - Q1\n",
        "    filter_ = ~((df[numeric_cols] < (Q1 - 1.5 * IQR)) | (df[numeric_cols] > (Q3 + 1.5 * IQR))).any(axis=1)\n",
        "    return df[filter_]\n",
        "\n",
        "df = remove_outliers(df)\n",
        "\n",
        "# Extract month from 'week_start_date'\n",
        "df['month'] = pd.to_datetime(df['week_start_date']).dt.month\n",
        "\n",
        "# Create lag features for 'total_cases' (lags 1 to 6)\n",
        "for lag in range(1, 7):\n",
        "    df[f'total_cases_lag_{lag}'] = df['total_cases'].shift(lag)\n",
        "\n",
        "# Rolling mean and std dev of 'total_cases' over last 3 weeks\n",
        "df['rolling_mean_3'] = df['total_cases'].rolling(window=3).mean()\n",
        "df['rolling_std_3'] = df['total_cases'].rolling(window=3).std()\n",
        "\n",
        "# Drop rows with NaNs due to lagging\n",
        "df.dropna(inplace=True)\n",
        "\n",
        "# Drop date column (used month already)\n",
        "df.drop(columns=['week_start_date'], inplace=True)\n"
      ],
      "metadata": {
        "id": "dRU6EdkT-4bz"
      },
      "execution_count": 8,
      "outputs": []
    },
    {
      "cell_type": "markdown",
      "source": [
        "Cell 4: Remove Low-Variance & Highly Correlated Features"
      ],
      "metadata": {
        "id": "VtvWCfPH_Ri0"
      }
    },
    {
      "cell_type": "code",
      "source": [
        "target_col = 'total_cases'\n",
        "\n",
        "# Separate features and target\n",
        "features = df.drop(columns=[target_col])\n",
        "target = df[target_col]\n",
        "\n",
        "# Remove low variance features\n",
        "selector = VarianceThreshold(threshold=0.01)\n",
        "features = features.loc[:, selector.fit(features).get_support()]\n",
        "\n",
        "# Remove highly correlated features (threshold 0.9)\n",
        "corr_matrix = features.corr().abs()\n",
        "upper_tri = corr_matrix.where(np.triu(np.ones(corr_matrix.shape), k=1).astype(bool))\n",
        "to_drop = [col for col in upper_tri.columns if any(upper_tri[col] > 0.9)]\n",
        "features.drop(columns=to_drop, inplace=True)\n",
        "\n",
        "print(\"Remaining features after variance & correlation filtering:\\n\", features.columns)\n"
      ],
      "metadata": {
        "id": "W7xwIKBe-4gY",
        "colab": {
          "base_uri": "https://localhost:8080/"
        },
        "outputId": "7949b7e0-6a7c-45f1-d688-0fb8ac6b0e15"
      },
      "execution_count": 9,
      "outputs": [
        {
          "output_type": "stream",
          "name": "stdout",
          "text": [
            "Remaining features after variance & correlation filtering:\n",
            " Index(['year', 'weekofyear', 'ndvi_ne', 'ndvi_nw', 'precipitation_amt_mm',\n",
            "       'reanalysis_air_temp_k', 'reanalysis_dew_point_temp_k',\n",
            "       'reanalysis_max_air_temp_k', 'reanalysis_min_air_temp_k',\n",
            "       'reanalysis_precip_amt_kg_per_m2',\n",
            "       'reanalysis_relative_humidity_percent', 'station_avg_temp_c',\n",
            "       'station_diur_temp_rng_c', 'station_max_temp_c', 'station_min_temp_c',\n",
            "       'station_precip_mm', 'total_cases_lag_1', 'rolling_std_3'],\n",
            "      dtype='object')\n"
          ]
        }
      ]
    },
    {
      "cell_type": "markdown",
      "source": [
        "Cell 5: Scaling Features and Target"
      ],
      "metadata": {
        "id": "hDj3vngX_Thz"
      }
    },
    {
      "cell_type": "code",
      "source": [
        "feat_scaler = MinMaxScaler()\n",
        "target_scaler = MinMaxScaler()\n",
        "\n",
        "features_scaled = feat_scaler.fit_transform(features)\n",
        "target_scaled = target_scaler.fit_transform(target.values.reshape(-1, 1))\n"
      ],
      "metadata": {
        "id": "d0Fbkwkr-4jh"
      },
      "execution_count": 10,
      "outputs": []
    },
    {
      "cell_type": "markdown",
      "source": [
        "Cell 6: Create Sequences for LSTM & Train-Val-Test Split"
      ],
      "metadata": {
        "id": "Dkt5Egtk_WPq"
      }
    },
    {
      "cell_type": "code",
      "source": [
        "window_size = 10\n",
        "X, y = [], []\n",
        "\n",
        "for i in range(len(features_scaled) - window_size):\n",
        "    X.append(features_scaled[i:i+window_size])\n",
        "    y.append(target_scaled[i+window_size])\n",
        "\n",
        "X = np.array(X)\n",
        "y = np.array(y)\n",
        "\n",
        "# Split data: 70% train, 15% val, 15% test (time series split - no shuffle)\n",
        "total_len = len(X)\n",
        "train_len = int(0.7 * total_len)\n",
        "val_len = int(0.15 * total_len)\n",
        "\n",
        "X_train, y_train = X[:train_len], y[:train_len]\n",
        "X_val, y_val = X[train_len:train_len + val_len], y[train_len:train_len + val_len]\n",
        "X_test, y_test = X[train_len + val_len:], y[train_len + val_len:]\n"
      ],
      "metadata": {
        "id": "gdefbCcz-4l7"
      },
      "execution_count": 11,
      "outputs": []
    },
    {
      "cell_type": "markdown",
      "source": [
        "Cell 7: Define Model and Objective for Optuna Hyperparameter Tuning"
      ],
      "metadata": {
        "id": "RkObxOM__Yrj"
      }
    },
    {
      "cell_type": "code",
      "source": [
        "def create_model(input_shape, trial):\n",
        "    model = Sequential()\n",
        "    n_layers = trial.suggest_int('n_layers', 1, 3)\n",
        "    for i in range(n_layers):\n",
        "        units = trial.suggest_int(f'units_l{i}', 64, 256, step=32)\n",
        "        return_seq = i < n_layers - 1\n",
        "        if i == 0:\n",
        "            model.add(LSTM(units, return_sequences=return_seq, input_shape=input_shape))\n",
        "        else:\n",
        "            model.add(LSTM(units, return_sequences=return_seq))\n",
        "        model.add(Dropout(trial.suggest_float(f'dropout_l{i}', 0.1, 0.5)))\n",
        "    model.add(Dense(1))\n",
        "    optimizer = trial.suggest_categorical('optimizer', ['adam', 'nadam', 'rmsprop'])\n",
        "    model.compile(optimizer=optimizer, loss='mse')\n",
        "    return model\n",
        "\n",
        "def objective(trial):\n",
        "    model = create_model((window_size, X.shape[2]), trial)\n",
        "    early_stop = EarlyStopping(monitor='val_loss', patience=10, restore_best_weights=True)\n",
        "    history = model.fit(\n",
        "        X_train, y_train,\n",
        "        validation_data=(X_val, y_val),\n",
        "        epochs=100,\n",
        "        batch_size=trial.suggest_categorical('batch_size', [16, 32, 64]),\n",
        "        callbacks=[early_stop],\n",
        "        verbose=0\n",
        "    )\n",
        "    pred_val = model.predict(X_val)\n",
        "    val_mse = mean_squared_error(y_val, pred_val)\n",
        "    return val_mse\n",
        "\n",
        "study = optuna.create_study(direction='minimize')\n",
        "study.optimize(objective, n_trials=50)\n",
        "\n",
        "print(\"Best parameters:\", study.best_trial.params)\n"
      ],
      "metadata": {
        "id": "dhagV1k6-4o9",
        "colab": {
          "base_uri": "https://localhost:8080/"
        },
        "outputId": "e0912eff-8acf-4e36-857a-2c0e69c885e9"
      },
      "execution_count": 12,
      "outputs": [
        {
          "output_type": "stream",
          "name": "stderr",
          "text": [
            "[I 2025-07-24 10:46:37,151] A new study created in memory with name: no-name-a644e75e-d2f4-4e68-b215-fef4b0b00af0\n"
          ]
        },
        {
          "output_type": "stream",
          "name": "stdout",
          "text": [
            "\u001b[1m6/6\u001b[0m \u001b[32m━━━━━━━━━━━━━━━━━━━━\u001b[0m\u001b[37m\u001b[0m \u001b[1m1s\u001b[0m 75ms/step\n"
          ]
        },
        {
          "output_type": "stream",
          "name": "stderr",
          "text": [
            "[I 2025-07-24 10:47:04,496] Trial 0 finished with value: 0.0015377236057923474 and parameters: {'n_layers': 2, 'units_l0': 64, 'dropout_l0': 0.17465758252654756, 'units_l1': 128, 'dropout_l1': 0.2610865480494472, 'optimizer': 'adam', 'batch_size': 16}. Best is trial 0 with value: 0.0015377236057923474.\n"
          ]
        },
        {
          "output_type": "stream",
          "name": "stdout",
          "text": [
            "\u001b[1m6/6\u001b[0m \u001b[32m━━━━━━━━━━━━━━━━━━━━\u001b[0m\u001b[37m\u001b[0m \u001b[1m1s\u001b[0m 129ms/step\n"
          ]
        },
        {
          "output_type": "stream",
          "name": "stderr",
          "text": [
            "[I 2025-07-24 10:48:20,895] Trial 1 finished with value: 0.0026039644115560543 and parameters: {'n_layers': 3, 'units_l0': 256, 'dropout_l0': 0.22648033147208868, 'units_l1': 224, 'dropout_l1': 0.35525150851889886, 'units_l2': 160, 'dropout_l2': 0.23126202333321402, 'optimizer': 'nadam', 'batch_size': 16}. Best is trial 0 with value: 0.0015377236057923474.\n",
            "WARNING:tensorflow:5 out of the last 13 calls to <function TensorFlowTrainer.make_predict_function.<locals>.one_step_on_data_distributed at 0x788cae59c2c0> triggered tf.function retracing. Tracing is expensive and the excessive number of tracings could be due to (1) creating @tf.function repeatedly in a loop, (2) passing tensors with different shapes, (3) passing Python objects instead of tensors. For (1), please define your @tf.function outside of the loop. For (2), @tf.function has reduce_retracing=True option that can avoid unnecessary retracing. For (3), please refer to https://www.tensorflow.org/guide/function#controlling_retracing and https://www.tensorflow.org/api_docs/python/tf/function for  more details.\n"
          ]
        },
        {
          "output_type": "stream",
          "name": "stdout",
          "text": [
            "\u001b[1m6/6\u001b[0m \u001b[32m━━━━━━━━━━━━━━━━━━━━\u001b[0m\u001b[37m\u001b[0m \u001b[1m1s\u001b[0m 118ms/step\n"
          ]
        },
        {
          "output_type": "stream",
          "name": "stderr",
          "text": [
            "[I 2025-07-24 10:50:23,874] Trial 2 finished with value: 0.0032643762050637956 and parameters: {'n_layers': 3, 'units_l0': 256, 'dropout_l0': 0.3439716192249447, 'units_l1': 160, 'dropout_l1': 0.4251031136206128, 'units_l2': 128, 'dropout_l2': 0.18647516355381316, 'optimizer': 'rmsprop', 'batch_size': 16}. Best is trial 0 with value: 0.0015377236057923474.\n",
            "WARNING:tensorflow:5 out of the last 13 calls to <function TensorFlowTrainer.make_predict_function.<locals>.one_step_on_data_distributed at 0x788ca73dd1c0> triggered tf.function retracing. Tracing is expensive and the excessive number of tracings could be due to (1) creating @tf.function repeatedly in a loop, (2) passing tensors with different shapes, (3) passing Python objects instead of tensors. For (1), please define your @tf.function outside of the loop. For (2), @tf.function has reduce_retracing=True option that can avoid unnecessary retracing. For (3), please refer to https://www.tensorflow.org/guide/function#controlling_retracing and https://www.tensorflow.org/api_docs/python/tf/function for  more details.\n"
          ]
        },
        {
          "output_type": "stream",
          "name": "stdout",
          "text": [
            "\u001b[1m6/6\u001b[0m \u001b[32m━━━━━━━━━━━━━━━━━━━━\u001b[0m\u001b[37m\u001b[0m \u001b[1m1s\u001b[0m 76ms/step\n"
          ]
        },
        {
          "output_type": "stream",
          "name": "stderr",
          "text": [
            "[I 2025-07-24 10:50:54,015] Trial 3 finished with value: 0.004566383648496791 and parameters: {'n_layers': 2, 'units_l0': 64, 'dropout_l0': 0.36921577416162654, 'units_l1': 224, 'dropout_l1': 0.19282002301459236, 'optimizer': 'nadam', 'batch_size': 32}. Best is trial 0 with value: 0.0015377236057923474.\n"
          ]
        },
        {
          "output_type": "stream",
          "name": "stdout",
          "text": [
            "\u001b[1m6/6\u001b[0m \u001b[32m━━━━━━━━━━━━━━━━━━━━\u001b[0m\u001b[37m\u001b[0m \u001b[1m1s\u001b[0m 84ms/step\n"
          ]
        },
        {
          "output_type": "stream",
          "name": "stderr",
          "text": [
            "[I 2025-07-24 10:51:16,768] Trial 4 finished with value: 0.002476413165039049 and parameters: {'n_layers': 2, 'units_l0': 192, 'dropout_l0': 0.29774977685822074, 'units_l1': 128, 'dropout_l1': 0.12658471256285453, 'optimizer': 'nadam', 'batch_size': 64}. Best is trial 0 with value: 0.0015377236057923474.\n"
          ]
        },
        {
          "output_type": "stream",
          "name": "stdout",
          "text": [
            "\u001b[1m6/6\u001b[0m \u001b[32m━━━━━━━━━━━━━━━━━━━━\u001b[0m\u001b[37m\u001b[0m \u001b[1m1s\u001b[0m 123ms/step\n"
          ]
        },
        {
          "output_type": "stream",
          "name": "stderr",
          "text": [
            "[I 2025-07-24 10:53:05,440] Trial 5 finished with value: 0.0011303775992082246 and parameters: {'n_layers': 3, 'units_l0': 96, 'dropout_l0': 0.30089357013749063, 'units_l1': 256, 'dropout_l1': 0.41093158146631203, 'units_l2': 160, 'dropout_l2': 0.4328766694635414, 'optimizer': 'adam', 'batch_size': 16}. Best is trial 5 with value: 0.0011303775992082246.\n"
          ]
        },
        {
          "output_type": "stream",
          "name": "stdout",
          "text": [
            "\u001b[1m6/6\u001b[0m \u001b[32m━━━━━━━━━━━━━━━━━━━━\u001b[0m\u001b[37m\u001b[0m \u001b[1m0s\u001b[0m 43ms/step\n"
          ]
        },
        {
          "output_type": "stream",
          "name": "stderr",
          "text": [
            "[I 2025-07-24 10:53:24,058] Trial 6 finished with value: 0.003980584920153798 and parameters: {'n_layers': 1, 'units_l0': 160, 'dropout_l0': 0.3384891154658216, 'optimizer': 'nadam', 'batch_size': 16}. Best is trial 5 with value: 0.0011303775992082246.\n"
          ]
        },
        {
          "output_type": "stream",
          "name": "stdout",
          "text": [
            "\u001b[1m6/6\u001b[0m \u001b[32m━━━━━━━━━━━━━━━━━━━━\u001b[0m\u001b[37m\u001b[0m \u001b[1m1s\u001b[0m 120ms/step\n"
          ]
        },
        {
          "output_type": "stream",
          "name": "stderr",
          "text": [
            "[I 2025-07-24 10:54:01,432] Trial 7 finished with value: 0.0010944583263492273 and parameters: {'n_layers': 3, 'units_l0': 96, 'dropout_l0': 0.46872341311798504, 'units_l1': 224, 'dropout_l1': 0.31140216051748426, 'units_l2': 224, 'dropout_l2': 0.48326643390712376, 'optimizer': 'rmsprop', 'batch_size': 64}. Best is trial 7 with value: 0.0010944583263492273.\n"
          ]
        },
        {
          "output_type": "stream",
          "name": "stdout",
          "text": [
            "\u001b[1m6/6\u001b[0m \u001b[32m━━━━━━━━━━━━━━━━━━━━\u001b[0m\u001b[37m\u001b[0m \u001b[1m1s\u001b[0m 82ms/step\n"
          ]
        },
        {
          "output_type": "stream",
          "name": "stderr",
          "text": [
            "[I 2025-07-24 10:54:20,756] Trial 8 finished with value: 0.0012746266007326423 and parameters: {'n_layers': 2, 'units_l0': 192, 'dropout_l0': 0.3390537731775016, 'units_l1': 160, 'dropout_l1': 0.1624262383916012, 'optimizer': 'adam', 'batch_size': 64}. Best is trial 7 with value: 0.0010944583263492273.\n"
          ]
        },
        {
          "output_type": "stream",
          "name": "stdout",
          "text": [
            "\u001b[1m6/6\u001b[0m \u001b[32m━━━━━━━━━━━━━━━━━━━━\u001b[0m\u001b[37m\u001b[0m \u001b[1m1s\u001b[0m 111ms/step\n"
          ]
        },
        {
          "output_type": "stream",
          "name": "stderr",
          "text": [
            "[I 2025-07-24 10:55:06,390] Trial 9 finished with value: 0.0016717353136232198 and parameters: {'n_layers': 3, 'units_l0': 128, 'dropout_l0': 0.23650842181297255, 'units_l1': 128, 'dropout_l1': 0.12378963983844252, 'units_l2': 64, 'dropout_l2': 0.49221002753395415, 'optimizer': 'adam', 'batch_size': 16}. Best is trial 7 with value: 0.0010944583263492273.\n"
          ]
        },
        {
          "output_type": "stream",
          "name": "stdout",
          "text": [
            "\u001b[1m6/6\u001b[0m \u001b[32m━━━━━━━━━━━━━━━━━━━━\u001b[0m\u001b[37m\u001b[0m \u001b[1m0s\u001b[0m 43ms/step\n"
          ]
        },
        {
          "output_type": "stream",
          "name": "stderr",
          "text": [
            "[I 2025-07-24 10:55:15,523] Trial 10 finished with value: 0.0016014215717269338 and parameters: {'n_layers': 1, 'units_l0': 128, 'dropout_l0': 0.4985359839597743, 'optimizer': 'rmsprop', 'batch_size': 64}. Best is trial 7 with value: 0.0010944583263492273.\n"
          ]
        },
        {
          "output_type": "stream",
          "name": "stdout",
          "text": [
            "\u001b[1m6/6\u001b[0m \u001b[32m━━━━━━━━━━━━━━━━━━━━\u001b[0m\u001b[37m\u001b[0m \u001b[1m1s\u001b[0m 117ms/step\n"
          ]
        },
        {
          "output_type": "stream",
          "name": "stderr",
          "text": [
            "[I 2025-07-24 10:56:03,142] Trial 11 finished with value: 0.0012809054094580165 and parameters: {'n_layers': 3, 'units_l0': 96, 'dropout_l0': 0.46162942588530903, 'units_l1': 256, 'dropout_l1': 0.4966959416705735, 'units_l2': 256, 'dropout_l2': 0.47408738899971586, 'optimizer': 'rmsprop', 'batch_size': 32}. Best is trial 7 with value: 0.0010944583263492273.\n"
          ]
        },
        {
          "output_type": "stream",
          "name": "stdout",
          "text": [
            "\u001b[1m6/6\u001b[0m \u001b[32m━━━━━━━━━━━━━━━━━━━━\u001b[0m\u001b[37m\u001b[0m \u001b[1m1s\u001b[0m 125ms/step\n"
          ]
        },
        {
          "output_type": "stream",
          "name": "stderr",
          "text": [
            "[I 2025-07-24 10:56:54,043] Trial 12 finished with value: 0.001203461852609643 and parameters: {'n_layers': 3, 'units_l0': 96, 'dropout_l0': 0.4284367854626543, 'units_l1': 256, 'dropout_l1': 0.35293720329337785, 'units_l2': 256, 'dropout_l2': 0.3820418720685721, 'optimizer': 'rmsprop', 'batch_size': 64}. Best is trial 7 with value: 0.0010944583263492273.\n"
          ]
        },
        {
          "output_type": "stream",
          "name": "stdout",
          "text": [
            "\u001b[1m6/6\u001b[0m \u001b[32m━━━━━━━━━━━━━━━━━━━━\u001b[0m\u001b[37m\u001b[0m \u001b[1m1s\u001b[0m 114ms/step\n"
          ]
        },
        {
          "output_type": "stream",
          "name": "stderr",
          "text": [
            "[I 2025-07-24 10:57:27,042] Trial 13 finished with value: 0.0012292460148193868 and parameters: {'n_layers': 3, 'units_l0': 96, 'dropout_l0': 0.1326985705515688, 'units_l1': 224, 'dropout_l1': 0.2852560578960838, 'units_l2': 192, 'dropout_l2': 0.363680258796681, 'optimizer': 'adam', 'batch_size': 64}. Best is trial 7 with value: 0.0010944583263492273.\n"
          ]
        },
        {
          "output_type": "stream",
          "name": "stdout",
          "text": [
            "\u001b[1m6/6\u001b[0m \u001b[32m━━━━━━━━━━━━━━━━━━━━\u001b[0m\u001b[37m\u001b[0m \u001b[1m1s\u001b[0m 120ms/step\n"
          ]
        },
        {
          "output_type": "stream",
          "name": "stderr",
          "text": [
            "[I 2025-07-24 10:58:03,447] Trial 14 finished with value: 0.0015342652580143641 and parameters: {'n_layers': 3, 'units_l0': 128, 'dropout_l0': 0.42072994047398243, 'units_l1': 192, 'dropout_l1': 0.3961738463221536, 'units_l2': 192, 'dropout_l2': 0.4121321223384555, 'optimizer': 'rmsprop', 'batch_size': 32}. Best is trial 7 with value: 0.0010944583263492273.\n"
          ]
        },
        {
          "output_type": "stream",
          "name": "stdout",
          "text": [
            "\u001b[1m6/6\u001b[0m \u001b[32m━━━━━━━━━━━━━━━━━━━━\u001b[0m\u001b[37m\u001b[0m \u001b[1m1s\u001b[0m 76ms/step\n"
          ]
        },
        {
          "output_type": "stream",
          "name": "stderr",
          "text": [
            "[I 2025-07-24 10:58:20,531] Trial 15 finished with value: 0.006551459349865196 and parameters: {'n_layers': 2, 'units_l0': 64, 'dropout_l0': 0.2574263161294584, 'units_l1': 64, 'dropout_l1': 0.459962210009649, 'optimizer': 'adam', 'batch_size': 16}. Best is trial 7 with value: 0.0010944583263492273.\n"
          ]
        },
        {
          "output_type": "stream",
          "name": "stdout",
          "text": [
            "\u001b[1m6/6\u001b[0m \u001b[32m━━━━━━━━━━━━━━━━━━━━\u001b[0m\u001b[37m\u001b[0m \u001b[1m1s\u001b[0m 126ms/step\n"
          ]
        },
        {
          "output_type": "stream",
          "name": "stderr",
          "text": [
            "[I 2025-07-24 10:59:04,814] Trial 16 finished with value: 0.0013660283939286874 and parameters: {'n_layers': 3, 'units_l0': 160, 'dropout_l0': 0.39580655861952346, 'units_l1': 256, 'dropout_l1': 0.2349936022491487, 'units_l2': 128, 'dropout_l2': 0.325062314055829, 'optimizer': 'rmsprop', 'batch_size': 64}. Best is trial 7 with value: 0.0010944583263492273.\n"
          ]
        },
        {
          "output_type": "stream",
          "name": "stdout",
          "text": [
            "\u001b[1m6/6\u001b[0m \u001b[32m━━━━━━━━━━━━━━━━━━━━\u001b[0m\u001b[37m\u001b[0m \u001b[1m1s\u001b[0m 83ms/step\n"
          ]
        },
        {
          "output_type": "stream",
          "name": "stderr",
          "text": [
            "[I 2025-07-24 11:00:16,647] Trial 17 finished with value: 0.0009562061478822029 and parameters: {'n_layers': 2, 'units_l0': 96, 'dropout_l0': 0.1051201547324489, 'units_l1': 192, 'dropout_l1': 0.32485911803497775, 'optimizer': 'adam', 'batch_size': 16}. Best is trial 17 with value: 0.0009562061478822029.\n"
          ]
        },
        {
          "output_type": "stream",
          "name": "stdout",
          "text": [
            "\u001b[1m6/6\u001b[0m \u001b[32m━━━━━━━━━━━━━━━━━━━━\u001b[0m\u001b[37m\u001b[0m \u001b[1m0s\u001b[0m 44ms/step\n"
          ]
        },
        {
          "output_type": "stream",
          "name": "stderr",
          "text": [
            "[I 2025-07-24 11:00:28,064] Trial 18 finished with value: 0.0016218077036158375 and parameters: {'n_layers': 1, 'units_l0': 192, 'dropout_l0': 0.10869463941840611, 'optimizer': 'adam', 'batch_size': 64}. Best is trial 17 with value: 0.0009562061478822029.\n"
          ]
        },
        {
          "output_type": "stream",
          "name": "stdout",
          "text": [
            "\u001b[1m6/6\u001b[0m \u001b[32m━━━━━━━━━━━━━━━━━━━━\u001b[0m\u001b[37m\u001b[0m \u001b[1m1s\u001b[0m 83ms/step\n"
          ]
        },
        {
          "output_type": "stream",
          "name": "stderr",
          "text": [
            "[I 2025-07-24 11:00:50,256] Trial 19 finished with value: 0.001102149418347955 and parameters: {'n_layers': 2, 'units_l0': 128, 'dropout_l0': 0.1753572525344846, 'units_l1': 192, 'dropout_l1': 0.3378285501868595, 'optimizer': 'rmsprop', 'batch_size': 32}. Best is trial 17 with value: 0.0009562061478822029.\n"
          ]
        },
        {
          "output_type": "stream",
          "name": "stdout",
          "text": [
            "\u001b[1m6/6\u001b[0m \u001b[32m━━━━━━━━━━━━━━━━━━━━\u001b[0m\u001b[37m\u001b[0m \u001b[1m1s\u001b[0m 64ms/step\n"
          ]
        },
        {
          "output_type": "stream",
          "name": "stderr",
          "text": [
            "[I 2025-07-24 11:01:07,826] Trial 20 finished with value: 0.0015377472769186541 and parameters: {'n_layers': 1, 'units_l0': 160, 'dropout_l0': 0.49999641834308806, 'optimizer': 'rmsprop', 'batch_size': 64}. Best is trial 17 with value: 0.0009562061478822029.\n"
          ]
        },
        {
          "output_type": "stream",
          "name": "stdout",
          "text": [
            "\u001b[1m6/6\u001b[0m \u001b[32m━━━━━━━━━━━━━━━━━━━━\u001b[0m\u001b[37m\u001b[0m \u001b[1m1s\u001b[0m 78ms/step\n"
          ]
        },
        {
          "output_type": "stream",
          "name": "stderr",
          "text": [
            "[I 2025-07-24 11:01:30,266] Trial 21 finished with value: 0.0011614551107070883 and parameters: {'n_layers': 2, 'units_l0': 128, 'dropout_l0': 0.16594406877646528, 'units_l1': 192, 'dropout_l1': 0.33383244082391345, 'optimizer': 'rmsprop', 'batch_size': 32}. Best is trial 17 with value: 0.0009562061478822029.\n"
          ]
        },
        {
          "output_type": "stream",
          "name": "stdout",
          "text": [
            "\u001b[1m6/6\u001b[0m \u001b[32m━━━━━━━━━━━━━━━━━━━━\u001b[0m\u001b[37m\u001b[0m \u001b[1m1s\u001b[0m 75ms/step\n"
          ]
        },
        {
          "output_type": "stream",
          "name": "stderr",
          "text": [
            "[I 2025-07-24 11:01:50,664] Trial 22 finished with value: 0.0014230641631346077 and parameters: {'n_layers': 2, 'units_l0': 96, 'dropout_l0': 0.18201370181117957, 'units_l1': 192, 'dropout_l1': 0.31128419544998415, 'optimizer': 'rmsprop', 'batch_size': 32}. Best is trial 17 with value: 0.0009562061478822029.\n"
          ]
        },
        {
          "output_type": "stream",
          "name": "stdout",
          "text": [
            "\u001b[1m6/6\u001b[0m \u001b[32m━━━━━━━━━━━━━━━━━━━━\u001b[0m\u001b[37m\u001b[0m \u001b[1m1s\u001b[0m 83ms/step\n"
          ]
        },
        {
          "output_type": "stream",
          "name": "stderr",
          "text": [
            "[I 2025-07-24 11:02:14,566] Trial 23 finished with value: 0.0012858119537784089 and parameters: {'n_layers': 2, 'units_l0': 128, 'dropout_l0': 0.10251309046803284, 'units_l1': 192, 'dropout_l1': 0.24396134008656128, 'optimizer': 'rmsprop', 'batch_size': 32}. Best is trial 17 with value: 0.0009562061478822029.\n"
          ]
        },
        {
          "output_type": "stream",
          "name": "stdout",
          "text": [
            "\u001b[1m6/6\u001b[0m \u001b[32m━━━━━━━━━━━━━━━━━━━━\u001b[0m\u001b[37m\u001b[0m \u001b[1m1s\u001b[0m 77ms/step\n"
          ]
        },
        {
          "output_type": "stream",
          "name": "stderr",
          "text": [
            "[I 2025-07-24 11:02:39,472] Trial 24 finished with value: 0.002031914869715554 and parameters: {'n_layers': 2, 'units_l0': 64, 'dropout_l0': 0.1458903461131509, 'units_l1': 224, 'dropout_l1': 0.30307779638388693, 'optimizer': 'rmsprop', 'batch_size': 32}. Best is trial 17 with value: 0.0009562061478822029.\n"
          ]
        },
        {
          "output_type": "stream",
          "name": "stdout",
          "text": [
            "\u001b[1m6/6\u001b[0m \u001b[32m━━━━━━━━━━━━━━━━━━━━\u001b[0m\u001b[37m\u001b[0m \u001b[1m1s\u001b[0m 116ms/step\n"
          ]
        },
        {
          "output_type": "stream",
          "name": "stderr",
          "text": [
            "[I 2025-07-24 11:02:59,654] Trial 25 finished with value: 0.0016257626115230134 and parameters: {'n_layers': 2, 'units_l0': 96, 'dropout_l0': 0.20564704132040848, 'units_l1': 160, 'dropout_l1': 0.3753245628457586, 'optimizer': 'adam', 'batch_size': 32}. Best is trial 17 with value: 0.0009562061478822029.\n"
          ]
        },
        {
          "output_type": "stream",
          "name": "stdout",
          "text": [
            "\u001b[1m6/6\u001b[0m \u001b[32m━━━━━━━━━━━━━━━━━━━━\u001b[0m\u001b[37m\u001b[0m \u001b[1m1s\u001b[0m 79ms/step\n"
          ]
        },
        {
          "output_type": "stream",
          "name": "stderr",
          "text": [
            "[I 2025-07-24 11:03:28,551] Trial 26 finished with value: 0.0023265171145420167 and parameters: {'n_layers': 2, 'units_l0': 128, 'dropout_l0': 0.27666912751202094, 'units_l1': 192, 'dropout_l1': 0.3267770563407072, 'optimizer': 'rmsprop', 'batch_size': 16}. Best is trial 17 with value: 0.0009562061478822029.\n"
          ]
        },
        {
          "output_type": "stream",
          "name": "stdout",
          "text": [
            "\u001b[1m6/6\u001b[0m \u001b[32m━━━━━━━━━━━━━━━━━━━━\u001b[0m\u001b[37m\u001b[0m \u001b[1m0s\u001b[0m 48ms/step\n"
          ]
        },
        {
          "output_type": "stream",
          "name": "stderr",
          "text": [
            "[I 2025-07-24 11:03:55,120] Trial 27 finished with value: 0.0023719312336871684 and parameters: {'n_layers': 1, 'units_l0': 224, 'dropout_l0': 0.2048925829004944, 'optimizer': 'rmsprop', 'batch_size': 16}. Best is trial 17 with value: 0.0009562061478822029.\n"
          ]
        },
        {
          "output_type": "stream",
          "name": "stdout",
          "text": [
            "\u001b[1m6/6\u001b[0m \u001b[32m━━━━━━━━━━━━━━━━━━━━\u001b[0m\u001b[37m\u001b[0m \u001b[1m1s\u001b[0m 79ms/step\n"
          ]
        },
        {
          "output_type": "stream",
          "name": "stderr",
          "text": [
            "[I 2025-07-24 11:04:11,262] Trial 28 finished with value: 0.0027411880877843014 and parameters: {'n_layers': 2, 'units_l0': 96, 'dropout_l0': 0.14299275317814675, 'units_l1': 160, 'dropout_l1': 0.27902991117746, 'optimizer': 'nadam', 'batch_size': 64}. Best is trial 17 with value: 0.0009562061478822029.\n"
          ]
        },
        {
          "output_type": "stream",
          "name": "stdout",
          "text": [
            "\u001b[1m6/6\u001b[0m \u001b[32m━━━━━━━━━━━━━━━━━━━━\u001b[0m\u001b[37m\u001b[0m \u001b[1m1s\u001b[0m 77ms/step\n"
          ]
        },
        {
          "output_type": "stream",
          "name": "stderr",
          "text": [
            "[I 2025-07-24 11:04:33,717] Trial 29 finished with value: 0.001742541184161118 and parameters: {'n_layers': 2, 'units_l0': 64, 'dropout_l0': 0.16538174638035308, 'units_l1': 224, 'dropout_l1': 0.216606983436621, 'optimizer': 'adam', 'batch_size': 32}. Best is trial 17 with value: 0.0009562061478822029.\n"
          ]
        },
        {
          "output_type": "stream",
          "name": "stdout",
          "text": [
            "\u001b[1m6/6\u001b[0m \u001b[32m━━━━━━━━━━━━━━━━━━━━\u001b[0m\u001b[37m\u001b[0m \u001b[1m0s\u001b[0m 39ms/step\n"
          ]
        },
        {
          "output_type": "stream",
          "name": "stderr",
          "text": [
            "[I 2025-07-24 11:04:44,102] Trial 30 finished with value: 0.0024488457373610796 and parameters: {'n_layers': 1, 'units_l0': 64, 'dropout_l0': 0.1161579551355609, 'optimizer': 'adam', 'batch_size': 16}. Best is trial 17 with value: 0.0009562061478822029.\n"
          ]
        },
        {
          "output_type": "stream",
          "name": "stdout",
          "text": [
            "\u001b[1m6/6\u001b[0m \u001b[32m━━━━━━━━━━━━━━━━━━━━\u001b[0m\u001b[37m\u001b[0m \u001b[1m1s\u001b[0m 135ms/step\n"
          ]
        },
        {
          "output_type": "stream",
          "name": "stderr",
          "text": [
            "[I 2025-07-24 11:06:19,235] Trial 31 finished with value: 0.001521537029675151 and parameters: {'n_layers': 3, 'units_l0': 96, 'dropout_l0': 0.27677565398800363, 'units_l1': 256, 'dropout_l1': 0.3967941119111056, 'units_l2': 224, 'dropout_l2': 0.4295053938450317, 'optimizer': 'adam', 'batch_size': 16}. Best is trial 17 with value: 0.0009562061478822029.\n"
          ]
        },
        {
          "output_type": "stream",
          "name": "stdout",
          "text": [
            "\u001b[1m6/6\u001b[0m \u001b[32m━━━━━━━━━━━━━━━━━━━━\u001b[0m\u001b[37m\u001b[0m \u001b[1m1s\u001b[0m 115ms/step\n"
          ]
        },
        {
          "output_type": "stream",
          "name": "stderr",
          "text": [
            "[I 2025-07-24 11:08:45,801] Trial 32 finished with value: 0.0017719829230580964 and parameters: {'n_layers': 3, 'units_l0': 96, 'dropout_l0': 0.19266588591310213, 'units_l1': 224, 'dropout_l1': 0.43528621818014646, 'units_l2': 160, 'dropout_l2': 0.2571804764259161, 'optimizer': 'adam', 'batch_size': 16}. Best is trial 17 with value: 0.0009562061478822029.\n"
          ]
        },
        {
          "output_type": "stream",
          "name": "stdout",
          "text": [
            "\u001b[1m6/6\u001b[0m \u001b[32m━━━━━━━━━━━━━━━━━━━━\u001b[0m\u001b[37m\u001b[0m \u001b[1m1s\u001b[0m 112ms/step\n"
          ]
        },
        {
          "output_type": "stream",
          "name": "stderr",
          "text": [
            "[I 2025-07-24 11:10:12,989] Trial 33 finished with value: 0.00095759827364357 and parameters: {'n_layers': 3, 'units_l0': 128, 'dropout_l0': 0.23226271757174816, 'units_l1': 256, 'dropout_l1': 0.38260804844557617, 'units_l2': 64, 'dropout_l2': 0.10933377157204041, 'optimizer': 'adam', 'batch_size': 16}. Best is trial 17 with value: 0.0009562061478822029.\n"
          ]
        },
        {
          "output_type": "stream",
          "name": "stdout",
          "text": [
            "\u001b[1m6/6\u001b[0m \u001b[32m━━━━━━━━━━━━━━━━━━━━\u001b[0m\u001b[37m\u001b[0m \u001b[1m1s\u001b[0m 121ms/step\n"
          ]
        },
        {
          "output_type": "stream",
          "name": "stderr",
          "text": [
            "[I 2025-07-24 11:11:17,084] Trial 34 finished with value: 0.0009147460914640434 and parameters: {'n_layers': 3, 'units_l0': 128, 'dropout_l0': 0.22605226291028274, 'units_l1': 192, 'dropout_l1': 0.36284316558087887, 'units_l2': 64, 'dropout_l2': 0.11875024670054704, 'optimizer': 'adam', 'batch_size': 16}. Best is trial 34 with value: 0.0009147460914640434.\n"
          ]
        },
        {
          "output_type": "stream",
          "name": "stdout",
          "text": [
            "\u001b[1m6/6\u001b[0m \u001b[32m━━━━━━━━━━━━━━━━━━━━\u001b[0m\u001b[37m\u001b[0m \u001b[1m1s\u001b[0m 121ms/step\n"
          ]
        },
        {
          "output_type": "stream",
          "name": "stderr",
          "text": [
            "[I 2025-07-24 11:12:05,899] Trial 35 finished with value: 0.0009404160020682189 and parameters: {'n_layers': 3, 'units_l0': 160, 'dropout_l0': 0.21630726827703925, 'units_l1': 224, 'dropout_l1': 0.3689733477061068, 'units_l2': 64, 'dropout_l2': 0.10111305547446331, 'optimizer': 'adam', 'batch_size': 16}. Best is trial 34 with value: 0.0009147460914640434.\n"
          ]
        },
        {
          "output_type": "stream",
          "name": "stdout",
          "text": [
            "\u001b[1m6/6\u001b[0m \u001b[32m━━━━━━━━━━━━━━━━━━━━\u001b[0m\u001b[37m\u001b[0m \u001b[1m1s\u001b[0m 107ms/step\n"
          ]
        },
        {
          "output_type": "stream",
          "name": "stderr",
          "text": [
            "[I 2025-07-24 11:13:02,412] Trial 36 finished with value: 0.0013897583635103605 and parameters: {'n_layers': 3, 'units_l0': 160, 'dropout_l0': 0.22626957667003528, 'units_l1': 64, 'dropout_l1': 0.3718619918712803, 'units_l2': 64, 'dropout_l2': 0.10156128893423022, 'optimizer': 'adam', 'batch_size': 16}. Best is trial 34 with value: 0.0009147460914640434.\n"
          ]
        },
        {
          "output_type": "stream",
          "name": "stdout",
          "text": [
            "\u001b[1m6/6\u001b[0m \u001b[32m━━━━━━━━━━━━━━━━━━━━\u001b[0m\u001b[37m\u001b[0m \u001b[1m1s\u001b[0m 119ms/step\n"
          ]
        },
        {
          "output_type": "stream",
          "name": "stderr",
          "text": [
            "[I 2025-07-24 11:13:41,695] Trial 37 finished with value: 0.0019436906345370038 and parameters: {'n_layers': 3, 'units_l0': 160, 'dropout_l0': 0.24656330041183983, 'units_l1': 128, 'dropout_l1': 0.3742454004125225, 'units_l2': 96, 'dropout_l2': 0.11336999264931087, 'optimizer': 'adam', 'batch_size': 16}. Best is trial 34 with value: 0.0009147460914640434.\n"
          ]
        },
        {
          "output_type": "stream",
          "name": "stdout",
          "text": [
            "\u001b[1m6/6\u001b[0m \u001b[32m━━━━━━━━━━━━━━━━━━━━\u001b[0m\u001b[37m\u001b[0m \u001b[1m1s\u001b[0m 123ms/step\n"
          ]
        },
        {
          "output_type": "stream",
          "name": "stderr",
          "text": [
            "[I 2025-07-24 11:14:49,606] Trial 38 finished with value: 0.001639859091911529 and parameters: {'n_layers': 3, 'units_l0': 192, 'dropout_l0': 0.29504110864576005, 'units_l1': 224, 'dropout_l1': 0.4585335804206895, 'units_l2': 96, 'dropout_l2': 0.15979495250332792, 'optimizer': 'adam', 'batch_size': 16}. Best is trial 34 with value: 0.0009147460914640434.\n"
          ]
        },
        {
          "output_type": "stream",
          "name": "stdout",
          "text": [
            "\u001b[1m6/6\u001b[0m \u001b[32m━━━━━━━━━━━━━━━━━━━━\u001b[0m\u001b[37m\u001b[0m \u001b[1m1s\u001b[0m 112ms/step\n"
          ]
        },
        {
          "output_type": "stream",
          "name": "stderr",
          "text": [
            "[I 2025-07-24 11:15:58,962] Trial 39 finished with value: 0.0015641589638563705 and parameters: {'n_layers': 3, 'units_l0': 192, 'dropout_l0': 0.2176320739157513, 'units_l1': 192, 'dropout_l1': 0.3582026271304526, 'units_l2': 64, 'dropout_l2': 0.15386759356636923, 'optimizer': 'adam', 'batch_size': 16}. Best is trial 34 with value: 0.0009147460914640434.\n"
          ]
        },
        {
          "output_type": "stream",
          "name": "stdout",
          "text": [
            "\u001b[1m6/6\u001b[0m \u001b[32m━━━━━━━━━━━━━━━━━━━━\u001b[0m\u001b[37m\u001b[0m \u001b[1m1s\u001b[0m 121ms/step\n"
          ]
        },
        {
          "output_type": "stream",
          "name": "stderr",
          "text": [
            "[I 2025-07-24 11:17:02,462] Trial 40 finished with value: 0.0014677428514427817 and parameters: {'n_layers': 3, 'units_l0': 224, 'dropout_l0': 0.26471471037676586, 'units_l1': 256, 'dropout_l1': 0.43301595460744136, 'units_l2': 96, 'dropout_l2': 0.13733459077652807, 'optimizer': 'nadam', 'batch_size': 16}. Best is trial 34 with value: 0.0009147460914640434.\n"
          ]
        },
        {
          "output_type": "stream",
          "name": "stdout",
          "text": [
            "\u001b[1m6/6\u001b[0m \u001b[32m━━━━━━━━━━━━━━━━━━━━\u001b[0m\u001b[37m\u001b[0m \u001b[1m1s\u001b[0m 109ms/step\n"
          ]
        },
        {
          "output_type": "stream",
          "name": "stderr",
          "text": [
            "[I 2025-07-24 11:18:55,857] Trial 41 finished with value: 0.0009473281427002138 and parameters: {'n_layers': 3, 'units_l0': 160, 'dropout_l0': 0.3103671014792018, 'units_l1': 224, 'dropout_l1': 0.27605424001273904, 'units_l2': 64, 'dropout_l2': 0.2059310574525211, 'optimizer': 'adam', 'batch_size': 16}. Best is trial 34 with value: 0.0009147460914640434.\n"
          ]
        },
        {
          "output_type": "stream",
          "name": "stdout",
          "text": [
            "\u001b[1m6/6\u001b[0m \u001b[32m━━━━━━━━━━━━━━━━━━━━\u001b[0m\u001b[37m\u001b[0m \u001b[1m1s\u001b[0m 118ms/step\n"
          ]
        },
        {
          "output_type": "stream",
          "name": "stderr",
          "text": [
            "[I 2025-07-24 11:19:49,262] Trial 42 finished with value: 0.0012351479394331958 and parameters: {'n_layers': 3, 'units_l0': 160, 'dropout_l0': 0.3146215991830433, 'units_l1': 224, 'dropout_l1': 0.2691017978143595, 'units_l2': 64, 'dropout_l2': 0.1978971162229931, 'optimizer': 'adam', 'batch_size': 16}. Best is trial 34 with value: 0.0009147460914640434.\n"
          ]
        },
        {
          "output_type": "stream",
          "name": "stdout",
          "text": [
            "\u001b[1m6/6\u001b[0m \u001b[32m━━━━━━━━━━━━━━━━━━━━\u001b[0m\u001b[37m\u001b[0m \u001b[1m1s\u001b[0m 115ms/step\n"
          ]
        },
        {
          "output_type": "stream",
          "name": "stderr",
          "text": [
            "[I 2025-07-24 11:21:13,346] Trial 43 finished with value: 0.004075043105333085 and parameters: {'n_layers': 3, 'units_l0': 128, 'dropout_l0': 0.24091137037027938, 'units_l1': 224, 'dropout_l1': 0.393434340568153, 'units_l2': 96, 'dropout_l2': 0.1364838596436468, 'optimizer': 'adam', 'batch_size': 16}. Best is trial 34 with value: 0.0009147460914640434.\n"
          ]
        },
        {
          "output_type": "stream",
          "name": "stdout",
          "text": [
            "\u001b[1m6/6\u001b[0m \u001b[32m━━━━━━━━━━━━━━━━━━━━\u001b[0m\u001b[37m\u001b[0m \u001b[1m1s\u001b[0m 118ms/step\n"
          ]
        },
        {
          "output_type": "stream",
          "name": "stderr",
          "text": [
            "[I 2025-07-24 11:22:32,081] Trial 44 finished with value: 0.0012092400499328136 and parameters: {'n_layers': 3, 'units_l0': 160, 'dropout_l0': 0.3212483281289756, 'units_l1': 192, 'dropout_l1': 0.35044043151562126, 'units_l2': 64, 'dropout_l2': 0.1921087292770695, 'optimizer': 'adam', 'batch_size': 16}. Best is trial 34 with value: 0.0009147460914640434.\n"
          ]
        },
        {
          "output_type": "stream",
          "name": "stdout",
          "text": [
            "\u001b[1m6/6\u001b[0m \u001b[32m━━━━━━━━━━━━━━━━━━━━\u001b[0m\u001b[37m\u001b[0m \u001b[1m1s\u001b[0m 119ms/step\n"
          ]
        },
        {
          "output_type": "stream",
          "name": "stderr",
          "text": [
            "[I 2025-07-24 11:23:28,261] Trial 45 finished with value: 0.0012977407179886236 and parameters: {'n_layers': 3, 'units_l0': 128, 'dropout_l0': 0.36945126373883297, 'units_l1': 256, 'dropout_l1': 0.2915942792843597, 'units_l2': 96, 'dropout_l2': 0.10133487226120594, 'optimizer': 'adam', 'batch_size': 16}. Best is trial 34 with value: 0.0009147460914640434.\n"
          ]
        },
        {
          "output_type": "stream",
          "name": "stdout",
          "text": [
            "\u001b[1m6/6\u001b[0m \u001b[32m━━━━━━━━━━━━━━━━━━━━\u001b[0m\u001b[37m\u001b[0m \u001b[1m1s\u001b[0m 141ms/step\n"
          ]
        },
        {
          "output_type": "stream",
          "name": "stderr",
          "text": [
            "[I 2025-07-24 11:24:39,936] Trial 46 finished with value: 0.0011304141638449356 and parameters: {'n_layers': 3, 'units_l0': 128, 'dropout_l0': 0.3515623822620593, 'units_l1': 224, 'dropout_l1': 0.3293667339818776, 'units_l2': 64, 'dropout_l2': 0.2468221688769053, 'optimizer': 'adam', 'batch_size': 16}. Best is trial 34 with value: 0.0009147460914640434.\n"
          ]
        },
        {
          "output_type": "stream",
          "name": "stdout",
          "text": [
            "\u001b[1m6/6\u001b[0m \u001b[32m━━━━━━━━━━━━━━━━━━━━\u001b[0m\u001b[37m\u001b[0m \u001b[1m1s\u001b[0m 120ms/step\n"
          ]
        },
        {
          "output_type": "stream",
          "name": "stderr",
          "text": [
            "[I 2025-07-24 11:25:41,362] Trial 47 finished with value: 0.000805967940713136 and parameters: {'n_layers': 3, 'units_l0': 160, 'dropout_l0': 0.29033581451404383, 'units_l1': 160, 'dropout_l1': 0.2536018350327018, 'units_l2': 128, 'dropout_l2': 0.15856891093045145, 'optimizer': 'adam', 'batch_size': 16}. Best is trial 47 with value: 0.000805967940713136.\n"
          ]
        },
        {
          "output_type": "stream",
          "name": "stdout",
          "text": [
            "\u001b[1m6/6\u001b[0m \u001b[32m━━━━━━━━━━━━━━━━━━━━\u001b[0m\u001b[37m\u001b[0m \u001b[1m1s\u001b[0m 115ms/step\n"
          ]
        },
        {
          "output_type": "stream",
          "name": "stderr",
          "text": [
            "[I 2025-07-24 11:26:29,642] Trial 48 finished with value: 0.0011201052087635745 and parameters: {'n_layers': 3, 'units_l0': 160, 'dropout_l0': 0.2880304514138599, 'units_l1': 160, 'dropout_l1': 0.24798559795283417, 'units_l2': 128, 'dropout_l2': 0.17087261011087973, 'optimizer': 'nadam', 'batch_size': 16}. Best is trial 47 with value: 0.000805967940713136.\n"
          ]
        },
        {
          "output_type": "stream",
          "name": "stdout",
          "text": [
            "\u001b[1m6/6\u001b[0m \u001b[32m━━━━━━━━━━━━━━━━━━━━\u001b[0m\u001b[37m\u001b[0m \u001b[1m1s\u001b[0m 112ms/step\n"
          ]
        },
        {
          "output_type": "stream",
          "name": "stderr",
          "text": [
            "[I 2025-07-24 11:27:32,490] Trial 49 finished with value: 0.0009617168399894878 and parameters: {'n_layers': 3, 'units_l0': 224, 'dropout_l0': 0.31689913240481704, 'units_l1': 96, 'dropout_l1': 0.1882251686182345, 'units_l2': 96, 'dropout_l2': 0.22513506533457456, 'optimizer': 'adam', 'batch_size': 16}. Best is trial 47 with value: 0.000805967940713136.\n"
          ]
        },
        {
          "output_type": "stream",
          "name": "stdout",
          "text": [
            "Best parameters: {'n_layers': 3, 'units_l0': 160, 'dropout_l0': 0.29033581451404383, 'units_l1': 160, 'dropout_l1': 0.2536018350327018, 'units_l2': 128, 'dropout_l2': 0.15856891093045145, 'optimizer': 'adam', 'batch_size': 16}\n"
          ]
        }
      ]
    },
    {
      "cell_type": "markdown",
      "source": [
        "Cell 8: Train Final Model with Best Hyperparameters"
      ],
      "metadata": {
        "id": "pxDFYYol_bUb"
      }
    },
    {
      "cell_type": "code",
      "source": [
        "p = study.best_trial.params\n",
        "\n",
        "model = Sequential()\n",
        "for i in range(p['n_layers']):\n",
        "    units = p[f'units_l{i}']\n",
        "    return_seq = i < p['n_layers'] - 1\n",
        "    if i == 0:\n",
        "        model.add(LSTM(units, return_sequences=return_seq, input_shape=(window_size, X.shape[2])))\n",
        "    else:\n",
        "        model.add(LSTM(units, return_sequences=return_seq))\n",
        "    model.add(Dropout(p[f'dropout_l{i}']))\n",
        "model.add(Dense(1))\n",
        "model.compile(optimizer=p['optimizer'], loss='mse')\n",
        "\n",
        "early_stop = EarlyStopping(monitor='val_loss', patience=25, restore_best_weights=True)\n",
        "history = model.fit(\n",
        "    X_train, y_train,\n",
        "    validation_data=(X_val, y_val),\n",
        "    epochs=150,\n",
        "    batch_size=p['batch_size'],\n",
        "    callbacks=[early_stop],\n",
        "    verbose=2\n",
        ")\n"
      ],
      "metadata": {
        "id": "HITbQqir-4sH",
        "colab": {
          "base_uri": "https://localhost:8080/"
        },
        "outputId": "2d4b73da-2d75-4616-ba28-99fd5e0a0829"
      },
      "execution_count": 16,
      "outputs": [
        {
          "output_type": "stream",
          "name": "stdout",
          "text": [
            "Epoch 1/150\n",
            "52/52 - 9s - 171ms/step - loss: 0.0110 - val_loss: 0.0018\n",
            "Epoch 2/150\n",
            "52/52 - 2s - 45ms/step - loss: 0.0077 - val_loss: 0.0022\n",
            "Epoch 3/150\n",
            "52/52 - 4s - 72ms/step - loss: 0.0071 - val_loss: 0.0028\n",
            "Epoch 4/150\n",
            "52/52 - 4s - 76ms/step - loss: 0.0065 - val_loss: 0.0014\n",
            "Epoch 5/150\n",
            "52/52 - 3s - 51ms/step - loss: 0.0052 - val_loss: 0.0119\n",
            "Epoch 6/150\n",
            "52/52 - 3s - 50ms/step - loss: 0.0064 - val_loss: 0.0034\n",
            "Epoch 7/150\n",
            "52/52 - 5s - 100ms/step - loss: 0.0055 - val_loss: 0.0046\n",
            "Epoch 8/150\n",
            "52/52 - 5s - 97ms/step - loss: 0.0038 - val_loss: 0.0017\n",
            "Epoch 9/150\n",
            "52/52 - 6s - 124ms/step - loss: 0.0068 - val_loss: 0.0058\n",
            "Epoch 10/150\n",
            "52/52 - 2s - 48ms/step - loss: 0.0043 - val_loss: 0.0123\n",
            "Epoch 11/150\n",
            "52/52 - 2s - 46ms/step - loss: 0.0047 - val_loss: 0.0016\n",
            "Epoch 12/150\n",
            "52/52 - 2s - 47ms/step - loss: 0.0035 - val_loss: 0.0032\n",
            "Epoch 13/150\n",
            "52/52 - 3s - 54ms/step - loss: 0.0043 - val_loss: 0.0028\n",
            "Epoch 14/150\n",
            "52/52 - 3s - 65ms/step - loss: 0.0035 - val_loss: 0.0092\n",
            "Epoch 15/150\n",
            "52/52 - 2s - 45ms/step - loss: 0.0034 - val_loss: 0.0032\n",
            "Epoch 16/150\n",
            "52/52 - 3s - 52ms/step - loss: 0.0035 - val_loss: 0.0049\n",
            "Epoch 17/150\n",
            "52/52 - 2s - 46ms/step - loss: 0.0033 - val_loss: 0.0033\n",
            "Epoch 18/150\n",
            "52/52 - 3s - 66ms/step - loss: 0.0027 - val_loss: 0.0019\n",
            "Epoch 19/150\n",
            "52/52 - 4s - 80ms/step - loss: 0.0026 - val_loss: 0.0051\n",
            "Epoch 20/150\n",
            "52/52 - 5s - 91ms/step - loss: 0.0025 - val_loss: 0.0053\n",
            "Epoch 21/150\n",
            "52/52 - 4s - 76ms/step - loss: 0.0035 - val_loss: 0.0019\n",
            "Epoch 22/150\n",
            "52/52 - 4s - 73ms/step - loss: 0.0028 - val_loss: 0.0011\n",
            "Epoch 23/150\n",
            "52/52 - 3s - 53ms/step - loss: 0.0030 - val_loss: 0.0039\n",
            "Epoch 24/150\n",
            "52/52 - 6s - 124ms/step - loss: 0.0027 - val_loss: 0.0044\n",
            "Epoch 25/150\n",
            "52/52 - 4s - 73ms/step - loss: 0.0021 - val_loss: 0.0028\n",
            "Epoch 26/150\n",
            "52/52 - 6s - 106ms/step - loss: 0.0028 - val_loss: 0.0039\n",
            "Epoch 27/150\n",
            "52/52 - 4s - 81ms/step - loss: 0.0019 - val_loss: 0.0047\n",
            "Epoch 28/150\n",
            "52/52 - 4s - 71ms/step - loss: 0.0028 - val_loss: 9.9588e-04\n",
            "Epoch 29/150\n",
            "52/52 - 3s - 53ms/step - loss: 0.0023 - val_loss: 0.0013\n",
            "Epoch 30/150\n",
            "52/52 - 3s - 52ms/step - loss: 0.0028 - val_loss: 0.0026\n",
            "Epoch 31/150\n",
            "52/52 - 4s - 81ms/step - loss: 0.0020 - val_loss: 0.0030\n",
            "Epoch 32/150\n",
            "52/52 - 4s - 72ms/step - loss: 0.0022 - val_loss: 0.0026\n",
            "Epoch 33/150\n",
            "52/52 - 3s - 50ms/step - loss: 0.0018 - val_loss: 0.0014\n",
            "Epoch 34/150\n",
            "52/52 - 8s - 148ms/step - loss: 0.0022 - val_loss: 0.0049\n",
            "Epoch 35/150\n",
            "52/52 - 8s - 151ms/step - loss: 0.0020 - val_loss: 0.0029\n",
            "Epoch 36/150\n",
            "52/52 - 4s - 79ms/step - loss: 0.0017 - val_loss: 0.0024\n",
            "Epoch 37/150\n",
            "52/52 - 3s - 52ms/step - loss: 0.0018 - val_loss: 0.0025\n",
            "Epoch 38/150\n",
            "52/52 - 5s - 97ms/step - loss: 0.0015 - val_loss: 0.0028\n",
            "Epoch 39/150\n",
            "52/52 - 3s - 63ms/step - loss: 0.0019 - val_loss: 0.0038\n",
            "Epoch 40/150\n",
            "52/52 - 3s - 67ms/step - loss: 0.0016 - val_loss: 0.0015\n",
            "Epoch 41/150\n",
            "52/52 - 3s - 53ms/step - loss: 0.0020 - val_loss: 0.0031\n",
            "Epoch 42/150\n",
            "52/52 - 5s - 102ms/step - loss: 0.0018 - val_loss: 0.0036\n",
            "Epoch 43/150\n",
            "52/52 - 4s - 81ms/step - loss: 0.0015 - val_loss: 0.0041\n",
            "Epoch 44/150\n",
            "52/52 - 3s - 56ms/step - loss: 0.0023 - val_loss: 0.0036\n",
            "Epoch 45/150\n",
            "52/52 - 5s - 95ms/step - loss: 0.0020 - val_loss: 0.0017\n",
            "Epoch 46/150\n",
            "52/52 - 5s - 102ms/step - loss: 0.0014 - val_loss: 0.0021\n",
            "Epoch 47/150\n",
            "52/52 - 5s - 93ms/step - loss: 0.0014 - val_loss: 0.0036\n",
            "Epoch 48/150\n",
            "52/52 - 3s - 53ms/step - loss: 0.0016 - val_loss: 0.0021\n",
            "Epoch 49/150\n",
            "52/52 - 4s - 79ms/step - loss: 0.0016 - val_loss: 0.0024\n",
            "Epoch 50/150\n",
            "52/52 - 4s - 72ms/step - loss: 0.0013 - val_loss: 0.0023\n",
            "Epoch 51/150\n",
            "52/52 - 5s - 100ms/step - loss: 0.0018 - val_loss: 8.3644e-04\n",
            "Epoch 52/150\n",
            "52/52 - 4s - 82ms/step - loss: 0.0029 - val_loss: 0.0016\n",
            "Epoch 53/150\n",
            "52/52 - 4s - 69ms/step - loss: 0.0017 - val_loss: 0.0013\n",
            "Epoch 54/150\n",
            "52/52 - 5s - 100ms/step - loss: 0.0014 - val_loss: 0.0015\n",
            "Epoch 55/150\n",
            "52/52 - 4s - 78ms/step - loss: 0.0021 - val_loss: 0.0019\n",
            "Epoch 56/150\n",
            "52/52 - 3s - 53ms/step - loss: 0.0015 - val_loss: 0.0025\n",
            "Epoch 57/150\n",
            "52/52 - 7s - 141ms/step - loss: 0.0014 - val_loss: 0.0014\n",
            "Epoch 58/150\n",
            "52/52 - 4s - 71ms/step - loss: 0.0014 - val_loss: 0.0020\n",
            "Epoch 59/150\n",
            "52/52 - 3s - 52ms/step - loss: 0.0011 - val_loss: 0.0014\n",
            "Epoch 60/150\n",
            "52/52 - 3s - 51ms/step - loss: 0.0015 - val_loss: 9.4857e-04\n",
            "Epoch 61/150\n",
            "52/52 - 7s - 128ms/step - loss: 0.0018 - val_loss: 0.0016\n",
            "Epoch 62/150\n",
            "52/52 - 4s - 71ms/step - loss: 0.0020 - val_loss: 0.0023\n",
            "Epoch 63/150\n",
            "52/52 - 3s - 51ms/step - loss: 0.0012 - val_loss: 0.0017\n",
            "Epoch 64/150\n",
            "52/52 - 7s - 126ms/step - loss: 0.0012 - val_loss: 0.0023\n",
            "Epoch 65/150\n",
            "52/52 - 4s - 73ms/step - loss: 0.0012 - val_loss: 0.0012\n",
            "Epoch 66/150\n",
            "52/52 - 3s - 54ms/step - loss: 0.0020 - val_loss: 0.0011\n",
            "Epoch 67/150\n",
            "52/52 - 7s - 125ms/step - loss: 0.0012 - val_loss: 8.2306e-04\n",
            "Epoch 68/150\n",
            "52/52 - 4s - 73ms/step - loss: 0.0012 - val_loss: 0.0028\n",
            "Epoch 69/150\n",
            "52/52 - 5s - 97ms/step - loss: 0.0013 - val_loss: 8.8924e-04\n",
            "Epoch 70/150\n",
            "52/52 - 5s - 99ms/step - loss: 0.0010 - val_loss: 0.0010\n",
            "Epoch 71/150\n",
            "52/52 - 5s - 98ms/step - loss: 0.0014 - val_loss: 7.1594e-04\n",
            "Epoch 72/150\n",
            "52/52 - 6s - 121ms/step - loss: 0.0011 - val_loss: 6.6687e-04\n",
            "Epoch 73/150\n",
            "52/52 - 3s - 51ms/step - loss: 0.0012 - val_loss: 7.7278e-04\n",
            "Epoch 74/150\n",
            "52/52 - 5s - 102ms/step - loss: 0.0013 - val_loss: 7.5755e-04\n",
            "Epoch 75/150\n",
            "52/52 - 4s - 79ms/step - loss: 0.0012 - val_loss: 7.6408e-04\n",
            "Epoch 76/150\n",
            "52/52 - 4s - 71ms/step - loss: 0.0014 - val_loss: 0.0012\n",
            "Epoch 77/150\n",
            "52/52 - 3s - 54ms/step - loss: 0.0013 - val_loss: 7.7748e-04\n",
            "Epoch 78/150\n",
            "52/52 - 7s - 126ms/step - loss: 0.0010 - val_loss: 6.9431e-04\n",
            "Epoch 79/150\n",
            "52/52 - 4s - 73ms/step - loss: 0.0012 - val_loss: 6.7905e-04\n",
            "Epoch 80/150\n",
            "52/52 - 5s - 95ms/step - loss: 0.0012 - val_loss: 0.0012\n",
            "Epoch 81/150\n",
            "52/52 - 4s - 78ms/step - loss: 0.0010 - val_loss: 6.9758e-04\n",
            "Epoch 82/150\n",
            "52/52 - 4s - 73ms/step - loss: 0.0012 - val_loss: 8.2060e-04\n",
            "Epoch 83/150\n",
            "52/52 - 5s - 98ms/step - loss: 9.6976e-04 - val_loss: 7.3925e-04\n",
            "Epoch 84/150\n",
            "52/52 - 5s - 103ms/step - loss: 8.6858e-04 - val_loss: 6.4755e-04\n",
            "Epoch 85/150\n",
            "52/52 - 3s - 51ms/step - loss: 9.3422e-04 - val_loss: 6.6911e-04\n",
            "Epoch 86/150\n",
            "52/52 - 5s - 100ms/step - loss: 0.0013 - val_loss: 8.4503e-04\n",
            "Epoch 87/150\n",
            "52/52 - 4s - 74ms/step - loss: 8.6673e-04 - val_loss: 7.9739e-04\n",
            "Epoch 88/150\n",
            "52/52 - 3s - 51ms/step - loss: 0.0010 - val_loss: 7.5897e-04\n",
            "Epoch 89/150\n",
            "52/52 - 5s - 100ms/step - loss: 9.8270e-04 - val_loss: 6.8265e-04\n",
            "Epoch 90/150\n",
            "52/52 - 5s - 101ms/step - loss: 0.0011 - val_loss: 6.6123e-04\n",
            "Epoch 91/150\n",
            "52/52 - 5s - 97ms/step - loss: 7.2986e-04 - val_loss: 7.8192e-04\n",
            "Epoch 92/150\n",
            "52/52 - 6s - 122ms/step - loss: 7.6595e-04 - val_loss: 6.6787e-04\n",
            "Epoch 93/150\n",
            "52/52 - 3s - 53ms/step - loss: 8.6296e-04 - val_loss: 6.5077e-04\n",
            "Epoch 94/150\n",
            "52/52 - 3s - 50ms/step - loss: 7.5371e-04 - val_loss: 6.8283e-04\n",
            "Epoch 95/150\n",
            "52/52 - 3s - 51ms/step - loss: 8.5054e-04 - val_loss: 6.8823e-04\n",
            "Epoch 96/150\n",
            "52/52 - 5s - 104ms/step - loss: 0.0013 - val_loss: 6.6283e-04\n",
            "Epoch 97/150\n",
            "52/52 - 3s - 53ms/step - loss: 9.3311e-04 - val_loss: 6.5651e-04\n",
            "Epoch 98/150\n",
            "52/52 - 5s - 101ms/step - loss: 8.3157e-04 - val_loss: 6.8424e-04\n",
            "Epoch 99/150\n",
            "52/52 - 5s - 99ms/step - loss: 8.5369e-04 - val_loss: 6.8120e-04\n",
            "Epoch 100/150\n",
            "52/52 - 5s - 92ms/step - loss: 0.0010 - val_loss: 9.5020e-04\n",
            "Epoch 101/150\n",
            "52/52 - 6s - 109ms/step - loss: 8.1853e-04 - val_loss: 6.8172e-04\n",
            "Epoch 102/150\n",
            "52/52 - 3s - 54ms/step - loss: 8.2731e-04 - val_loss: 6.4463e-04\n",
            "Epoch 103/150\n",
            "52/52 - 3s - 52ms/step - loss: 8.6348e-04 - val_loss: 7.1595e-04\n",
            "Epoch 104/150\n",
            "52/52 - 6s - 124ms/step - loss: 9.4211e-04 - val_loss: 6.5584e-04\n",
            "Epoch 105/150\n",
            "52/52 - 4s - 72ms/step - loss: 7.7044e-04 - val_loss: 8.0086e-04\n",
            "Epoch 106/150\n",
            "52/52 - 5s - 99ms/step - loss: 8.1523e-04 - val_loss: 7.0100e-04\n",
            "Epoch 107/150\n",
            "52/52 - 4s - 77ms/step - loss: 9.5384e-04 - val_loss: 7.9506e-04\n",
            "Epoch 108/150\n",
            "52/52 - 3s - 54ms/step - loss: 6.4272e-04 - val_loss: 0.0010\n",
            "Epoch 109/150\n",
            "52/52 - 3s - 54ms/step - loss: 9.1686e-04 - val_loss: 0.0013\n",
            "Epoch 110/150\n",
            "52/52 - 3s - 54ms/step - loss: 0.0011 - val_loss: 8.8636e-04\n",
            "Epoch 111/150\n",
            "52/52 - 5s - 95ms/step - loss: 7.5553e-04 - val_loss: 6.4267e-04\n",
            "Epoch 112/150\n",
            "52/52 - 5s - 101ms/step - loss: 8.6173e-04 - val_loss: 6.4235e-04\n",
            "Epoch 113/150\n",
            "52/52 - 6s - 115ms/step - loss: 0.0012 - val_loss: 6.8824e-04\n",
            "Epoch 114/150\n",
            "52/52 - 4s - 80ms/step - loss: 7.8688e-04 - val_loss: 6.8841e-04\n",
            "Epoch 115/150\n",
            "52/52 - 3s - 54ms/step - loss: 7.8831e-04 - val_loss: 7.4638e-04\n",
            "Epoch 116/150\n",
            "52/52 - 6s - 115ms/step - loss: 6.3713e-04 - val_loss: 6.7342e-04\n",
            "Epoch 117/150\n",
            "52/52 - 3s - 52ms/step - loss: 9.2867e-04 - val_loss: 6.7806e-04\n",
            "Epoch 118/150\n",
            "52/52 - 5s - 101ms/step - loss: 0.0013 - val_loss: 8.1898e-04\n",
            "Epoch 119/150\n",
            "52/52 - 5s - 96ms/step - loss: 9.9725e-04 - val_loss: 6.4254e-04\n",
            "Epoch 120/150\n",
            "52/52 - 5s - 101ms/step - loss: 7.4202e-04 - val_loss: 8.5603e-04\n",
            "Epoch 121/150\n",
            "52/52 - 4s - 69ms/step - loss: 7.2420e-04 - val_loss: 6.6561e-04\n",
            "Epoch 122/150\n",
            "52/52 - 4s - 81ms/step - loss: 7.4002e-04 - val_loss: 8.7065e-04\n",
            "Epoch 123/150\n",
            "52/52 - 3s - 52ms/step - loss: 6.7893e-04 - val_loss: 7.1634e-04\n",
            "Epoch 124/150\n",
            "52/52 - 6s - 123ms/step - loss: 5.5570e-04 - val_loss: 7.6410e-04\n",
            "Epoch 125/150\n",
            "52/52 - 4s - 75ms/step - loss: 6.9224e-04 - val_loss: 8.1747e-04\n",
            "Epoch 126/150\n",
            "52/52 - 5s - 95ms/step - loss: 6.6744e-04 - val_loss: 7.0643e-04\n",
            "Epoch 127/150\n",
            "52/52 - 4s - 74ms/step - loss: 7.9409e-04 - val_loss: 8.9229e-04\n",
            "Epoch 128/150\n",
            "52/52 - 4s - 77ms/step - loss: 7.5418e-04 - val_loss: 7.1247e-04\n",
            "Epoch 129/150\n",
            "52/52 - 5s - 97ms/step - loss: 6.3295e-04 - val_loss: 6.6558e-04\n",
            "Epoch 130/150\n",
            "52/52 - 5s - 105ms/step - loss: 6.8597e-04 - val_loss: 7.2023e-04\n",
            "Epoch 131/150\n",
            "52/52 - 5s - 93ms/step - loss: 7.0069e-04 - val_loss: 7.7450e-04\n",
            "Epoch 132/150\n",
            "52/52 - 3s - 51ms/step - loss: 7.4436e-04 - val_loss: 9.8972e-04\n",
            "Epoch 133/150\n",
            "52/52 - 4s - 79ms/step - loss: 0.0012 - val_loss: 7.4606e-04\n",
            "Epoch 134/150\n",
            "52/52 - 4s - 70ms/step - loss: 6.8903e-04 - val_loss: 7.9606e-04\n",
            "Epoch 135/150\n",
            "52/52 - 3s - 54ms/step - loss: 9.2013e-04 - val_loss: 0.0011\n",
            "Epoch 136/150\n",
            "52/52 - 3s - 51ms/step - loss: 6.2922e-04 - val_loss: 7.7121e-04\n",
            "Epoch 137/150\n",
            "52/52 - 5s - 102ms/step - loss: 5.7156e-04 - val_loss: 6.8144e-04\n"
          ]
        }
      ]
    },
    {
      "cell_type": "markdown",
      "source": [
        "Cell 9: Predict on Test Set and Inverse Scale for Evaluation"
      ],
      "metadata": {
        "id": "VpXG6sxs_d_q"
      }
    },
    {
      "cell_type": "code",
      "source": [
        "pred_scaled = model.predict(X_test)\n",
        "pred = target_scaler.inverse_transform(pred_scaled)\n",
        "actual = target_scaler.inverse_transform(y_test)\n",
        "\n",
        "mse = mean_squared_error(actual, pred)\n",
        "rmse = np.sqrt(mse)\n",
        "mae = mean_absolute_error(actual, pred)\n",
        "\n",
        "print(f\"Test MSE: {mse:.2f}\")\n",
        "print(f\"Test RMSE: {rmse:.2f}\")\n",
        "print(f\"Test MAE: {mae:.2f}\")\n"
      ],
      "metadata": {
        "id": "AuzAhvOH-4y8",
        "colab": {
          "base_uri": "https://localhost:8080/"
        },
        "outputId": "a54be796-a86d-4bf1-8877-96cf4cbc395b"
      },
      "execution_count": 17,
      "outputs": [
        {
          "output_type": "stream",
          "name": "stdout",
          "text": [
            "\u001b[1m6/6\u001b[0m \u001b[32m━━━━━━━━━━━━━━━━━━━━\u001b[0m\u001b[37m\u001b[0m \u001b[1m1s\u001b[0m 119ms/step\n",
            "Test MSE: 84.44\n",
            "Test RMSE: 9.19\n",
            "Test MAE: 5.71\n"
          ]
        }
      ]
    },
    {
      "cell_type": "markdown",
      "source": [
        "Cell 10: Plot Actual vs Predicted Dengue Cases"
      ],
      "metadata": {
        "id": "GyykGXYW_g57"
      }
    },
    {
      "cell_type": "code",
      "source": [
        "plt.figure(figsize=(14, 6))\n",
        "plt.plot(actual, label='Actual Cases')\n",
        "plt.plot(pred, label='Predicted Cases')\n",
        "plt.title(\"Dengue Case Prediction (Test Set)\")\n",
        "plt.xlabel(\"Time Step\")\n",
        "plt.ylabel(\"Total Cases\")\n",
        "plt.legend()\n",
        "plt.grid(True)\n",
        "plt.show()\n"
      ],
      "metadata": {
        "id": "n3AbhwKA-46s",
        "colab": {
          "base_uri": "https://localhost:8080/",
          "height": 564
        },
        "outputId": "a9598d1d-d161-4f4e-9e90-6e09d0547f07"
      },
      "execution_count": 18,
      "outputs": [
        {
          "output_type": "display_data",
          "data": {
            "text/plain": [
              "<Figure size 1400x600 with 1 Axes>"
            ],
            "image/png": "[encoded data removed]"
          },
          "metadata": {}
        }
      ]
    }
  ]
}